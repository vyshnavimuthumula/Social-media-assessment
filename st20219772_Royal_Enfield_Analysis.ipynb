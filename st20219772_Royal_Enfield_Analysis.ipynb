{
  "cells": [
    {
      "cell_type": "markdown",
      "metadata": {
        "id": "RlyjODO3e3hG"
      },
      "source": [
        "# Royal Enfield Data process\n",
        "\n",
        "\n"
      ]
    },
    {
      "cell_type": "code",
      "execution_count": null,
      "metadata": {
        "id": "joBVPyI_NMbm"
      },
      "outputs": [],
      "source": [
        "# Importing required libraries\n",
        "import pandas as pd \n",
        "import numpy as np \n",
        "import matplotlib.pyplot as plt \n",
        "from sklearn import preprocessing\n",
        "from scipy import stats\n",
        "%matplotlib inline\n",
        "from textblob import TextBlob\n",
        "import seaborn as sns\n"
      ]
    },
    {
      "cell_type": "code",
      "execution_count": null,
      "metadata": {
        "colab": {
          "base_uri": "https://localhost:8080/",
          "height": 531
        },
        "id": "O4_uyD6Y5-Ye",
        "outputId": "33b2818f-67f2-46a5-eae8-8a89303268e4"
      },
      "outputs": [
        {
          "data": {
            "text/html": [
              "\n",
              "  <div id=\"df-904e560f-39be-4b20-8c85-65d7b09387ab\">\n",
              "    <div class=\"colab-df-container\">\n",
              "      <div>\n",
              "<style scoped>\n",
              "    .dataframe tbody tr th:only-of-type {\n",
              "        vertical-align: middle;\n",
              "    }\n",
              "\n",
              "    .dataframe tbody tr th {\n",
              "        vertical-align: top;\n",
              "    }\n",
              "\n",
              "    .dataframe thead th {\n",
              "        text-align: right;\n",
              "    }\n",
              "</style>\n",
              "<table border=\"1\" class=\"dataframe\">\n",
              "  <thead>\n",
              "    <tr style=\"text-align: right;\">\n",
              "      <th></th>\n",
              "      <th>Name</th>\n",
              "      <th>Year</th>\n",
              "      <th>Rating</th>\n",
              "      <th>Description</th>\n",
              "      <th>Visual Appeal</th>\n",
              "      <th>Reliability</th>\n",
              "      <th>Performance</th>\n",
              "      <th>Comfort</th>\n",
              "      <th>Service Experience</th>\n",
              "      <th>Maintenance cost</th>\n",
              "      <th>Extra Features</th>\n",
              "      <th>Likes</th>\n",
              "      <th>Dislikes</th>\n",
              "      <th>Used it for</th>\n",
              "      <th>Owned for</th>\n",
              "      <th>Mileage</th>\n",
              "      <th>Ridden for</th>\n",
              "    </tr>\n",
              "  </thead>\n",
              "  <tbody>\n",
              "    <tr>\n",
              "      <th>0</th>\n",
              "      <td>Tarun Kumar</td>\n",
              "      <td>1 day ago by</td>\n",
              "      <td>5</td>\n",
              "      <td>Best ever review of bullet</td>\n",
              "      <td>5.0</td>\n",
              "      <td>5.0</td>\n",
              "      <td>5.0</td>\n",
              "      <td>4.0</td>\n",
              "      <td>4.0</td>\n",
              "      <td>5.0</td>\n",
              "      <td>4.0</td>\n",
              "      <td>0</td>\n",
              "      <td>0</td>\n",
              "      <td>Daily Commute</td>\n",
              "      <td>&gt; 1 yr</td>\n",
              "      <td>28 kmpl</td>\n",
              "      <td>&lt; 5000 kms</td>\n",
              "    </tr>\n",
              "    <tr>\n",
              "      <th>1</th>\n",
              "      <td>Mohammed Mujeeb</td>\n",
              "      <td>2 weeks ago by</td>\n",
              "      <td>5</td>\n",
              "      <td>Pleasure to suggest you are classic</td>\n",
              "      <td>5.0</td>\n",
              "      <td>5.0</td>\n",
              "      <td>5.0</td>\n",
              "      <td>NaN</td>\n",
              "      <td>NaN</td>\n",
              "      <td>5.0</td>\n",
              "      <td>NaN</td>\n",
              "      <td>3</td>\n",
              "      <td>5</td>\n",
              "      <td>Daily Commute</td>\n",
              "      <td>&gt; 1 yr</td>\n",
              "      <td>30 kmpl</td>\n",
              "      <td>&gt; 15000 kms</td>\n",
              "    </tr>\n",
              "    <tr>\n",
              "      <th>2</th>\n",
              "      <td>Shubham Sadhuka</td>\n",
              "      <td>3 weeks ago by</td>\n",
              "      <td>4</td>\n",
              "      <td>A timeless legend!</td>\n",
              "      <td>5.0</td>\n",
              "      <td>5.0</td>\n",
              "      <td>5.0</td>\n",
              "      <td>4.0</td>\n",
              "      <td>4.0</td>\n",
              "      <td>5.0</td>\n",
              "      <td>4.0</td>\n",
              "      <td>6</td>\n",
              "      <td>9</td>\n",
              "      <td>Everything</td>\n",
              "      <td>6 months-1 yr</td>\n",
              "      <td>42 kmpl</td>\n",
              "      <td>5000-10000 kms</td>\n",
              "    </tr>\n",
              "    <tr>\n",
              "      <th>3</th>\n",
              "      <td>Naman Mahajan</td>\n",
              "      <td>1 month ago by</td>\n",
              "      <td>5</td>\n",
              "      <td>Nice review</td>\n",
              "      <td>5.0</td>\n",
              "      <td>5.0</td>\n",
              "      <td>5.0</td>\n",
              "      <td>NaN</td>\n",
              "      <td>NaN</td>\n",
              "      <td>5.0</td>\n",
              "      <td>NaN</td>\n",
              "      <td>5</td>\n",
              "      <td>9</td>\n",
              "      <td>Everything</td>\n",
              "      <td>&gt; 1 yr</td>\n",
              "      <td>33 kmpl</td>\n",
              "      <td>&gt; 15000 kms</td>\n",
              "    </tr>\n",
              "    <tr>\n",
              "      <th>4</th>\n",
              "      <td>Vishal Upadhyay</td>\n",
              "      <td>1 month ago by</td>\n",
              "      <td>5</td>\n",
              "      <td>Dream bike</td>\n",
              "      <td>5.0</td>\n",
              "      <td>5.0</td>\n",
              "      <td>5.0</td>\n",
              "      <td>NaN</td>\n",
              "      <td>NaN</td>\n",
              "      <td>5.0</td>\n",
              "      <td>NaN</td>\n",
              "      <td>3</td>\n",
              "      <td>1</td>\n",
              "      <td>Daily Commute</td>\n",
              "      <td>&gt; 1 yr</td>\n",
              "      <td>38 kmpl</td>\n",
              "      <td>&gt; 15000 kms</td>\n",
              "    </tr>\n",
              "  </tbody>\n",
              "</table>\n",
              "</div>\n",
              "      <button class=\"colab-df-convert\" onclick=\"convertToInteractive('df-904e560f-39be-4b20-8c85-65d7b09387ab')\"\n",
              "              title=\"Convert this dataframe to an interactive table.\"\n",
              "              style=\"display:none;\">\n",
              "        \n",
              "  <svg xmlns=\"http://www.w3.org/2000/svg\" height=\"24px\"viewBox=\"0 0 24 24\"\n",
              "       width=\"24px\">\n",
              "    <path d=\"M0 0h24v24H0V0z\" fill=\"none\"/>\n",
              "    <path d=\"M18.56 5.44l.94 2.06.94-2.06 2.06-.94-2.06-.94-.94-2.06-.94 2.06-2.06.94zm-11 1L8.5 8.5l.94-2.06 2.06-.94-2.06-.94L8.5 2.5l-.94 2.06-2.06.94zm10 10l.94 2.06.94-2.06 2.06-.94-2.06-.94-.94-2.06-.94 2.06-2.06.94z\"/><path d=\"M17.41 7.96l-1.37-1.37c-.4-.4-.92-.59-1.43-.59-.52 0-1.04.2-1.43.59L10.3 9.45l-7.72 7.72c-.78.78-.78 2.05 0 2.83L4 21.41c.39.39.9.59 1.41.59.51 0 1.02-.2 1.41-.59l7.78-7.78 2.81-2.81c.8-.78.8-2.07 0-2.86zM5.41 20L4 18.59l7.72-7.72 1.47 1.35L5.41 20z\"/>\n",
              "  </svg>\n",
              "      </button>\n",
              "      \n",
              "  <style>\n",
              "    .colab-df-container {\n",
              "      display:flex;\n",
              "      flex-wrap:wrap;\n",
              "      gap: 12px;\n",
              "    }\n",
              "\n",
              "    .colab-df-convert {\n",
              "      background-color: #E8F0FE;\n",
              "      border: none;\n",
              "      border-radius: 50%;\n",
              "      cursor: pointer;\n",
              "      display: none;\n",
              "      fill: #1967D2;\n",
              "      height: 32px;\n",
              "      padding: 0 0 0 0;\n",
              "      width: 32px;\n",
              "    }\n",
              "\n",
              "    .colab-df-convert:hover {\n",
              "      background-color: #E2EBFA;\n",
              "      box-shadow: 0px 1px 2px rgba(60, 64, 67, 0.3), 0px 1px 3px 1px rgba(60, 64, 67, 0.15);\n",
              "      fill: #174EA6;\n",
              "    }\n",
              "\n",
              "    [theme=dark] .colab-df-convert {\n",
              "      background-color: #3B4455;\n",
              "      fill: #D2E3FC;\n",
              "    }\n",
              "\n",
              "    [theme=dark] .colab-df-convert:hover {\n",
              "      background-color: #434B5C;\n",
              "      box-shadow: 0px 1px 3px 1px rgba(0, 0, 0, 0.15);\n",
              "      filter: drop-shadow(0px 1px 2px rgba(0, 0, 0, 0.3));\n",
              "      fill: #FFFFFF;\n",
              "    }\n",
              "  </style>\n",
              "\n",
              "      <script>\n",
              "        const buttonEl =\n",
              "          document.querySelector('#df-904e560f-39be-4b20-8c85-65d7b09387ab button.colab-df-convert');\n",
              "        buttonEl.style.display =\n",
              "          google.colab.kernel.accessAllowed ? 'block' : 'none';\n",
              "\n",
              "        async function convertToInteractive(key) {\n",
              "          const element = document.querySelector('#df-904e560f-39be-4b20-8c85-65d7b09387ab');\n",
              "          const dataTable =\n",
              "            await google.colab.kernel.invokeFunction('convertToInteractive',\n",
              "                                                     [key], {});\n",
              "          if (!dataTable) return;\n",
              "\n",
              "          const docLinkHtml = 'Like what you see? Visit the ' +\n",
              "            '<a target=\"_blank\" href=https://colab.research.google.com/notebooks/data_table.ipynb>data table notebook</a>'\n",
              "            + ' to learn more about interactive tables.';\n",
              "          element.innerHTML = '';\n",
              "          dataTable['output_type'] = 'display_data';\n",
              "          await google.colab.output.renderOutput(dataTable, element);\n",
              "          const docLink = document.createElement('div');\n",
              "          docLink.innerHTML = docLinkHtml;\n",
              "          element.appendChild(docLink);\n",
              "        }\n",
              "      </script>\n",
              "    </div>\n",
              "  </div>\n",
              "  "
            ],
            "text/plain": [
              "              Name            Year  Rating  \\\n",
              "0      Tarun Kumar    1 day ago by       5   \n",
              "1  Mohammed Mujeeb  2 weeks ago by       5   \n",
              "2  Shubham Sadhuka  3 weeks ago by       4   \n",
              "3    Naman Mahajan  1 month ago by       5   \n",
              "4  Vishal Upadhyay  1 month ago by       5   \n",
              "\n",
              "                           Description  Visual Appeal  Reliability  \\\n",
              "0           Best ever review of bullet            5.0          5.0   \n",
              "1  Pleasure to suggest you are classic            5.0          5.0   \n",
              "2                   A timeless legend!            5.0          5.0   \n",
              "3                          Nice review            5.0          5.0   \n",
              "4                           Dream bike            5.0          5.0   \n",
              "\n",
              "   Performance  Comfort  Service Experience  Maintenance cost  Extra Features  \\\n",
              "0          5.0      4.0                 4.0               5.0             4.0   \n",
              "1          5.0      NaN                 NaN               5.0             NaN   \n",
              "2          5.0      4.0                 4.0               5.0             4.0   \n",
              "3          5.0      NaN                 NaN               5.0             NaN   \n",
              "4          5.0      NaN                 NaN               5.0             NaN   \n",
              "\n",
              "   Likes  Dislikes    Used it for      Owned for  Mileage      Ridden for  \n",
              "0      0         0  Daily Commute         > 1 yr  28 kmpl      < 5000 kms  \n",
              "1      3         5  Daily Commute         > 1 yr  30 kmpl     > 15000 kms  \n",
              "2      6         9     Everything  6 months-1 yr  42 kmpl  5000-10000 kms  \n",
              "3      5         9     Everything         > 1 yr  33 kmpl     > 15000 kms  \n",
              "4      3         1  Daily Commute         > 1 yr  38 kmpl     > 15000 kms  "
            ]
          },
          "execution_count": 8,
          "metadata": {},
          "output_type": "execute_result"
        }
      ],
      "source": [
        "royalEnfieeld_df = pd.read_csv(\"Old_RoyalEnfield.csv\",sep='\\t')\n",
        "royalEnfieeld_df.head()"
      ]
    },
    {
      "cell_type": "markdown",
      "metadata": {
        "id": "ewhXPjcadiPI"
      },
      "source": [
        "# Performing Statistical analysis"
      ]
    },
    {
      "cell_type": "code",
      "execution_count": null,
      "metadata": {
        "colab": {
          "base_uri": "https://localhost:8080/"
        },
        "id": "80q7L-tE1VYf",
        "outputId": "44256be7-bdfa-4851-90b7-3b013f92ec6f"
      },
      "outputs": [
        {
          "name": "stderr",
          "output_type": "stream",
          "text": [
            "/usr/local/lib/python3.7/dist-packages/ipykernel_launcher.py:2: FutureWarning: Dropping of nuisance columns in DataFrame reductions (with 'numeric_only=None') is deprecated; in a future version this will raise TypeError.  Select only valid columns before calling the reduction.\n",
            "  \n"
          ]
        },
        {
          "data": {
            "text/plain": [
              "Rating                 4.368491\n",
              "Visual Appeal          4.996672\n",
              "Reliability            4.993834\n",
              "Performance            4.992908\n",
              "Comfort                3.996881\n",
              "Service Experience     3.995529\n",
              "Maintenance cost       5.000000\n",
              "Extra Features         4.000000\n",
              "Likes                 27.825100\n",
              "Dislikes               5.180908\n",
              "dtype: float64"
            ]
          },
          "execution_count": 5,
          "metadata": {},
          "output_type": "execute_result"
        }
      ],
      "source": [
        "# Calculating mean for the data\n",
        "royalEnfieeld_df.mean()"
      ]
    },
    {
      "cell_type": "code",
      "execution_count": null,
      "metadata": {
        "colab": {
          "base_uri": "https://localhost:8080/"
        },
        "id": "d7OhKd1g6I9Z",
        "outputId": "9b1fe040-ad1c-4634-a948-8148df3e0793"
      },
      "outputs": [
        {
          "data": {
            "text/plain": [
              "Name                    0\n",
              "Year                    0\n",
              "Rating                  0\n",
              "Description             0\n",
              "Visual Appeal         296\n",
              "Reliability           525\n",
              "Performance           793\n",
              "Comfort               536\n",
              "Service Experience    827\n",
              "Maintenance cost      795\n",
              "Extra Features        537\n",
              "Likes                   0\n",
              "Dislikes                0\n",
              "Used it for           211\n",
              "Owned for             211\n",
              "Mileage               819\n",
              "Ridden for            287\n",
              "dtype: int64"
            ]
          },
          "execution_count": 6,
          "metadata": {},
          "output_type": "execute_result"
        }
      ],
      "source": [
        "#Checking whether data has null values or not.\n",
        "royalEnfieeld_df.isna().sum()"
      ]
    },
    {
      "cell_type": "markdown",
      "metadata": {
        "id": "X5T6rm1ogRdf"
      },
      "source": [
        "## Data Cleaning "
      ]
    },
    {
      "cell_type": "markdown",
      "metadata": {
        "id": "OQGbSyim1G3l"
      },
      "source": [
        "Cleaning the data beacuse there are some null values and the format of date is not useful for visualization process."
      ]
    },
    {
      "cell_type": "markdown",
      "metadata": {
        "id": "OuSiOaVZdx7x"
      },
      "source": [
        "Replacing Missing values with 0"
      ]
    },
    {
      "cell_type": "code",
      "execution_count": null,
      "metadata": {
        "id": "QEs_srI4DnhT"
      },
      "outputs": [],
      "source": [
        "royalEnfieeld_df.fillna(0,inplace=True)"
      ]
    },
    {
      "cell_type": "markdown",
      "metadata": {
        "id": "rwpJigrRd297"
      },
      "source": [
        "Printing first 5 rows"
      ]
    },
    {
      "cell_type": "code",
      "execution_count": null,
      "metadata": {
        "colab": {
          "base_uri": "https://localhost:8080/",
          "height": 423
        },
        "id": "eVFR4GMGuzX7",
        "outputId": "8eb0b9f1-78f9-418a-f254-9d3f2939cd54"
      },
      "outputs": [
        {
          "data": {
            "text/html": [
              "\n",
              "  <div id=\"df-db6e4eef-def9-4e42-a0d2-5fdec2130508\">\n",
              "    <div class=\"colab-df-container\">\n",
              "      <div>\n",
              "<style scoped>\n",
              "    .dataframe tbody tr th:only-of-type {\n",
              "        vertical-align: middle;\n",
              "    }\n",
              "\n",
              "    .dataframe tbody tr th {\n",
              "        vertical-align: top;\n",
              "    }\n",
              "\n",
              "    .dataframe thead th {\n",
              "        text-align: right;\n",
              "    }\n",
              "</style>\n",
              "<table border=\"1\" class=\"dataframe\">\n",
              "  <thead>\n",
              "    <tr style=\"text-align: right;\">\n",
              "      <th></th>\n",
              "      <th>Name</th>\n",
              "      <th>Year</th>\n",
              "      <th>Rating</th>\n",
              "      <th>Description</th>\n",
              "      <th>Visual Appeal</th>\n",
              "      <th>Reliability</th>\n",
              "      <th>Performance</th>\n",
              "      <th>Comfort</th>\n",
              "      <th>Service Experience</th>\n",
              "      <th>Maintenance cost</th>\n",
              "      <th>Extra Features</th>\n",
              "      <th>Likes</th>\n",
              "      <th>Dislikes</th>\n",
              "      <th>Used it for</th>\n",
              "      <th>Owned for</th>\n",
              "      <th>Mileage</th>\n",
              "      <th>Ridden for</th>\n",
              "    </tr>\n",
              "  </thead>\n",
              "  <tbody>\n",
              "    <tr>\n",
              "      <th>0</th>\n",
              "      <td>Tarun Kumar</td>\n",
              "      <td>1 day ago by</td>\n",
              "      <td>5</td>\n",
              "      <td>Best ever review of bullet</td>\n",
              "      <td>5.0</td>\n",
              "      <td>5.0</td>\n",
              "      <td>5.0</td>\n",
              "      <td>4.0</td>\n",
              "      <td>4.0</td>\n",
              "      <td>5.0</td>\n",
              "      <td>4.0</td>\n",
              "      <td>0</td>\n",
              "      <td>0</td>\n",
              "      <td>Daily Commute</td>\n",
              "      <td>&gt; 1 yr</td>\n",
              "      <td>28 kmpl</td>\n",
              "      <td>&lt; 5000 kms</td>\n",
              "    </tr>\n",
              "    <tr>\n",
              "      <th>1</th>\n",
              "      <td>Mohammed Mujeeb</td>\n",
              "      <td>2 weeks ago by</td>\n",
              "      <td>5</td>\n",
              "      <td>Pleasure to suggest you are classic</td>\n",
              "      <td>5.0</td>\n",
              "      <td>5.0</td>\n",
              "      <td>5.0</td>\n",
              "      <td>0.0</td>\n",
              "      <td>0.0</td>\n",
              "      <td>5.0</td>\n",
              "      <td>0.0</td>\n",
              "      <td>3</td>\n",
              "      <td>5</td>\n",
              "      <td>Daily Commute</td>\n",
              "      <td>&gt; 1 yr</td>\n",
              "      <td>30 kmpl</td>\n",
              "      <td>&gt; 15000 kms</td>\n",
              "    </tr>\n",
              "    <tr>\n",
              "      <th>2</th>\n",
              "      <td>Shubham Sadhuka</td>\n",
              "      <td>3 weeks ago by</td>\n",
              "      <td>4</td>\n",
              "      <td>A timeless legend!</td>\n",
              "      <td>5.0</td>\n",
              "      <td>5.0</td>\n",
              "      <td>5.0</td>\n",
              "      <td>4.0</td>\n",
              "      <td>4.0</td>\n",
              "      <td>5.0</td>\n",
              "      <td>4.0</td>\n",
              "      <td>6</td>\n",
              "      <td>9</td>\n",
              "      <td>Everything</td>\n",
              "      <td>6 months-1 yr</td>\n",
              "      <td>42 kmpl</td>\n",
              "      <td>5000-10000 kms</td>\n",
              "    </tr>\n",
              "    <tr>\n",
              "      <th>3</th>\n",
              "      <td>Naman Mahajan</td>\n",
              "      <td>1 month ago by</td>\n",
              "      <td>5</td>\n",
              "      <td>Nice review</td>\n",
              "      <td>5.0</td>\n",
              "      <td>5.0</td>\n",
              "      <td>5.0</td>\n",
              "      <td>0.0</td>\n",
              "      <td>0.0</td>\n",
              "      <td>5.0</td>\n",
              "      <td>0.0</td>\n",
              "      <td>5</td>\n",
              "      <td>9</td>\n",
              "      <td>Everything</td>\n",
              "      <td>&gt; 1 yr</td>\n",
              "      <td>33 kmpl</td>\n",
              "      <td>&gt; 15000 kms</td>\n",
              "    </tr>\n",
              "    <tr>\n",
              "      <th>4</th>\n",
              "      <td>Vishal Upadhyay</td>\n",
              "      <td>1 month ago by</td>\n",
              "      <td>5</td>\n",
              "      <td>Dream bike</td>\n",
              "      <td>5.0</td>\n",
              "      <td>5.0</td>\n",
              "      <td>5.0</td>\n",
              "      <td>0.0</td>\n",
              "      <td>0.0</td>\n",
              "      <td>5.0</td>\n",
              "      <td>0.0</td>\n",
              "      <td>3</td>\n",
              "      <td>1</td>\n",
              "      <td>Daily Commute</td>\n",
              "      <td>&gt; 1 yr</td>\n",
              "      <td>38 kmpl</td>\n",
              "      <td>&gt; 15000 kms</td>\n",
              "    </tr>\n",
              "  </tbody>\n",
              "</table>\n",
              "</div>\n",
              "      <button class=\"colab-df-convert\" onclick=\"convertToInteractive('df-db6e4eef-def9-4e42-a0d2-5fdec2130508')\"\n",
              "              title=\"Convert this dataframe to an interactive table.\"\n",
              "              style=\"display:none;\">\n",
              "        \n",
              "  <svg xmlns=\"http://www.w3.org/2000/svg\" height=\"24px\"viewBox=\"0 0 24 24\"\n",
              "       width=\"24px\">\n",
              "    <path d=\"M0 0h24v24H0V0z\" fill=\"none\"/>\n",
              "    <path d=\"M18.56 5.44l.94 2.06.94-2.06 2.06-.94-2.06-.94-.94-2.06-.94 2.06-2.06.94zm-11 1L8.5 8.5l.94-2.06 2.06-.94-2.06-.94L8.5 2.5l-.94 2.06-2.06.94zm10 10l.94 2.06.94-2.06 2.06-.94-2.06-.94-.94-2.06-.94 2.06-2.06.94z\"/><path d=\"M17.41 7.96l-1.37-1.37c-.4-.4-.92-.59-1.43-.59-.52 0-1.04.2-1.43.59L10.3 9.45l-7.72 7.72c-.78.78-.78 2.05 0 2.83L4 21.41c.39.39.9.59 1.41.59.51 0 1.02-.2 1.41-.59l7.78-7.78 2.81-2.81c.8-.78.8-2.07 0-2.86zM5.41 20L4 18.59l7.72-7.72 1.47 1.35L5.41 20z\"/>\n",
              "  </svg>\n",
              "      </button>\n",
              "      \n",
              "  <style>\n",
              "    .colab-df-container {\n",
              "      display:flex;\n",
              "      flex-wrap:wrap;\n",
              "      gap: 12px;\n",
              "    }\n",
              "\n",
              "    .colab-df-convert {\n",
              "      background-color: #E8F0FE;\n",
              "      border: none;\n",
              "      border-radius: 50%;\n",
              "      cursor: pointer;\n",
              "      display: none;\n",
              "      fill: #1967D2;\n",
              "      height: 32px;\n",
              "      padding: 0 0 0 0;\n",
              "      width: 32px;\n",
              "    }\n",
              "\n",
              "    .colab-df-convert:hover {\n",
              "      background-color: #E2EBFA;\n",
              "      box-shadow: 0px 1px 2px rgba(60, 64, 67, 0.3), 0px 1px 3px 1px rgba(60, 64, 67, 0.15);\n",
              "      fill: #174EA6;\n",
              "    }\n",
              "\n",
              "    [theme=dark] .colab-df-convert {\n",
              "      background-color: #3B4455;\n",
              "      fill: #D2E3FC;\n",
              "    }\n",
              "\n",
              "    [theme=dark] .colab-df-convert:hover {\n",
              "      background-color: #434B5C;\n",
              "      box-shadow: 0px 1px 3px 1px rgba(0, 0, 0, 0.15);\n",
              "      filter: drop-shadow(0px 1px 2px rgba(0, 0, 0, 0.3));\n",
              "      fill: #FFFFFF;\n",
              "    }\n",
              "  </style>\n",
              "\n",
              "      <script>\n",
              "        const buttonEl =\n",
              "          document.querySelector('#df-db6e4eef-def9-4e42-a0d2-5fdec2130508 button.colab-df-convert');\n",
              "        buttonEl.style.display =\n",
              "          google.colab.kernel.accessAllowed ? 'block' : 'none';\n",
              "\n",
              "        async function convertToInteractive(key) {\n",
              "          const element = document.querySelector('#df-db6e4eef-def9-4e42-a0d2-5fdec2130508');\n",
              "          const dataTable =\n",
              "            await google.colab.kernel.invokeFunction('convertToInteractive',\n",
              "                                                     [key], {});\n",
              "          if (!dataTable) return;\n",
              "\n",
              "          const docLinkHtml = 'Like what you see? Visit the ' +\n",
              "            '<a target=\"_blank\" href=https://colab.research.google.com/notebooks/data_table.ipynb>data table notebook</a>'\n",
              "            + ' to learn more about interactive tables.';\n",
              "          element.innerHTML = '';\n",
              "          dataTable['output_type'] = 'display_data';\n",
              "          await google.colab.output.renderOutput(dataTable, element);\n",
              "          const docLink = document.createElement('div');\n",
              "          docLink.innerHTML = docLinkHtml;\n",
              "          element.appendChild(docLink);\n",
              "        }\n",
              "      </script>\n",
              "    </div>\n",
              "  </div>\n",
              "  "
            ],
            "text/plain": [
              "              Name            Year  Rating  \\\n",
              "0      Tarun Kumar    1 day ago by       5   \n",
              "1  Mohammed Mujeeb  2 weeks ago by       5   \n",
              "2  Shubham Sadhuka  3 weeks ago by       4   \n",
              "3    Naman Mahajan  1 month ago by       5   \n",
              "4  Vishal Upadhyay  1 month ago by       5   \n",
              "\n",
              "                           Description  Visual Appeal  Reliability  \\\n",
              "0           Best ever review of bullet            5.0          5.0   \n",
              "1  Pleasure to suggest you are classic            5.0          5.0   \n",
              "2                   A timeless legend!            5.0          5.0   \n",
              "3                          Nice review            5.0          5.0   \n",
              "4                           Dream bike            5.0          5.0   \n",
              "\n",
              "   Performance  Comfort  Service Experience  Maintenance cost  Extra Features  \\\n",
              "0          5.0      4.0                 4.0               5.0             4.0   \n",
              "1          5.0      0.0                 0.0               5.0             0.0   \n",
              "2          5.0      4.0                 4.0               5.0             4.0   \n",
              "3          5.0      0.0                 0.0               5.0             0.0   \n",
              "4          5.0      0.0                 0.0               5.0             0.0   \n",
              "\n",
              "   Likes  Dislikes    Used it for      Owned for  Mileage      Ridden for  \n",
              "0      0         0  Daily Commute         > 1 yr  28 kmpl      < 5000 kms  \n",
              "1      3         5  Daily Commute         > 1 yr  30 kmpl     > 15000 kms  \n",
              "2      6         9     Everything  6 months-1 yr  42 kmpl  5000-10000 kms  \n",
              "3      5         9     Everything         > 1 yr  33 kmpl     > 15000 kms  \n",
              "4      3         1  Daily Commute         > 1 yr  38 kmpl     > 15000 kms  "
            ]
          },
          "execution_count": 8,
          "metadata": {},
          "output_type": "execute_result"
        }
      ],
      "source": [
        "royalEnfieeld_df.head()"
      ]
    },
    {
      "cell_type": "code",
      "execution_count": null,
      "metadata": {
        "colab": {
          "base_uri": "https://localhost:8080/"
        },
        "id": "N_7NAo0DEKsP",
        "outputId": "b765e676-608a-4c5a-b5b5-7dd874023362"
      },
      "outputs": [
        {
          "data": {
            "text/plain": [
              "Name                  0\n",
              "Year                  0\n",
              "Rating                0\n",
              "Description           0\n",
              "Visual Appeal         0\n",
              "Reliability           0\n",
              "Performance           0\n",
              "Comfort               0\n",
              "Service Experience    0\n",
              "Maintenance cost      0\n",
              "Extra Features        0\n",
              "Likes                 0\n",
              "Dislikes              0\n",
              "Used it for           0\n",
              "Owned for             0\n",
              "Mileage               0\n",
              "Ridden for            0\n",
              "dtype: int64"
            ]
          },
          "execution_count": 9,
          "metadata": {},
          "output_type": "execute_result"
        }
      ],
      "source": [
        "royalEnfieeld_df.isna().sum()"
      ]
    },
    {
      "cell_type": "code",
      "execution_count": null,
      "metadata": {
        "colab": {
          "base_uri": "https://localhost:8080/"
        },
        "id": "dIcnf9MlR7Nj",
        "outputId": "1bce2fa3-1775-48b0-b5ce-fc46bf9945af"
      },
      "outputs": [
        {
          "name": "stdout",
          "output_type": "stream",
          "text": [
            "0         1 day ago by\n",
            "1       2 weeks ago by\n",
            "2       3 weeks ago by\n",
            "3       1 month ago by\n",
            "4       1 month ago by\n",
            "             ...      \n",
            "1493    4 years ago by\n",
            "1494    4 years ago by\n",
            "1495    4 years ago by\n",
            "1496    4 years ago by\n",
            "1497    5 years ago by\n",
            "Name: Year, Length: 1498, dtype: object\n"
          ]
        }
      ],
      "source": [
        "str_da = (royalEnfieeld_df['Year'])\n",
        "print(str_da)\n"
      ]
    },
    {
      "cell_type": "markdown",
      "metadata": {},
      "source": [
        "Whenever the code runs the date come according to current date. So if user runs the code the years will get change which results into different visualizations. "
      ]
    },
    {
      "cell_type": "code",
      "execution_count": null,
      "metadata": {
        "colab": {
          "base_uri": "https://localhost:8080/"
        },
        "id": "WTXZUdQv4bK7",
        "outputId": "f016c6d9-d2cf-4373-f7b1-7020fc1bdf81"
      },
      "outputs": [
        {
          "name": "stdout",
          "output_type": "stream",
          "text": [
            "0    [02 May 2022, 01 May 2022, 30 April 2022, 03 A...\n",
            "Name: Col-1, dtype: object\n"
          ]
        }
      ],
      "source": [
        "import re\n",
        "from datetime import datetime, timedelta\n",
        "RE_df = pd.DataFrame(columns=['Col-1'])\n",
        "key = ['Col-1']\n",
        "val=[]\n",
        "def string_to_delta(s):\n",
        "  # print(s)\n",
        "  value = int(re.search(r'\\d+', s).group())\n",
        "  if \"day\" in s:\n",
        "      value = value*1\n",
        "  elif \"month\" in s:\n",
        "      value = value *30 \n",
        "  elif \"years\" in s:\n",
        "      value = value *365 \n",
        "  date_ago = (datetime.now() - timedelta(days=value)).date() \n",
        "  str_date= date_ago.strftime(\"%d %B %Y\")\n",
        "  val.append(str_date)\n",
        "  \n",
        "for s1 in str_da:\n",
        "  string_to_delta(s1)\n",
        "v = [[val]]\n",
        "for i,j in zip(key,v):\n",
        "  RE_df[i] = j\n",
        "\n",
        "print(RE_df['Col-1'])"
      ]
    },
    {
      "cell_type": "code",
      "execution_count": null,
      "metadata": {
        "id": "_HWR_Qfl98EF"
      },
      "outputs": [],
      "source": [
        "royalEnfieeld_df['Year']= RE_df['Col-1'][0]"
      ]
    },
    {
      "cell_type": "code",
      "execution_count": null,
      "metadata": {
        "colab": {
          "base_uri": "https://localhost:8080/",
          "height": 441
        },
        "id": "YsjbjqLiARLS",
        "outputId": "bf544636-d001-4dbd-d167-579ba4f6df8d"
      },
      "outputs": [
        {
          "data": {
            "text/html": [
              "\n",
              "  <div id=\"df-3d86ed9f-e3c5-455f-9dc1-27e7c53942af\">\n",
              "    <div class=\"colab-df-container\">\n",
              "      <div>\n",
              "<style scoped>\n",
              "    .dataframe tbody tr th:only-of-type {\n",
              "        vertical-align: middle;\n",
              "    }\n",
              "\n",
              "    .dataframe tbody tr th {\n",
              "        vertical-align: top;\n",
              "    }\n",
              "\n",
              "    .dataframe thead th {\n",
              "        text-align: right;\n",
              "    }\n",
              "</style>\n",
              "<table border=\"1\" class=\"dataframe\">\n",
              "  <thead>\n",
              "    <tr style=\"text-align: right;\">\n",
              "      <th></th>\n",
              "      <th>Name</th>\n",
              "      <th>Year</th>\n",
              "      <th>Rating</th>\n",
              "      <th>Description</th>\n",
              "      <th>Visual Appeal</th>\n",
              "      <th>Reliability</th>\n",
              "      <th>Performance</th>\n",
              "      <th>Comfort</th>\n",
              "      <th>Service Experience</th>\n",
              "      <th>Maintenance cost</th>\n",
              "      <th>Extra Features</th>\n",
              "      <th>Likes</th>\n",
              "      <th>Dislikes</th>\n",
              "      <th>Used it for</th>\n",
              "      <th>Owned for</th>\n",
              "      <th>Mileage</th>\n",
              "      <th>Ridden for</th>\n",
              "    </tr>\n",
              "  </thead>\n",
              "  <tbody>\n",
              "    <tr>\n",
              "      <th>0</th>\n",
              "      <td>Tarun Kumar</td>\n",
              "      <td>02 May 2022</td>\n",
              "      <td>5</td>\n",
              "      <td>Best ever review of bullet</td>\n",
              "      <td>5.0</td>\n",
              "      <td>5.0</td>\n",
              "      <td>5.0</td>\n",
              "      <td>4.0</td>\n",
              "      <td>4.0</td>\n",
              "      <td>5.0</td>\n",
              "      <td>4.0</td>\n",
              "      <td>0</td>\n",
              "      <td>0</td>\n",
              "      <td>Daily Commute</td>\n",
              "      <td>&gt; 1 yr</td>\n",
              "      <td>28 kmpl</td>\n",
              "      <td>&lt; 5000 kms</td>\n",
              "    </tr>\n",
              "    <tr>\n",
              "      <th>1</th>\n",
              "      <td>Mohammed Mujeeb</td>\n",
              "      <td>01 May 2022</td>\n",
              "      <td>5</td>\n",
              "      <td>Pleasure to suggest you are classic</td>\n",
              "      <td>5.0</td>\n",
              "      <td>5.0</td>\n",
              "      <td>5.0</td>\n",
              "      <td>0.0</td>\n",
              "      <td>0.0</td>\n",
              "      <td>5.0</td>\n",
              "      <td>0.0</td>\n",
              "      <td>3</td>\n",
              "      <td>5</td>\n",
              "      <td>Daily Commute</td>\n",
              "      <td>&gt; 1 yr</td>\n",
              "      <td>30 kmpl</td>\n",
              "      <td>&gt; 15000 kms</td>\n",
              "    </tr>\n",
              "    <tr>\n",
              "      <th>2</th>\n",
              "      <td>Shubham Sadhuka</td>\n",
              "      <td>30 April 2022</td>\n",
              "      <td>4</td>\n",
              "      <td>A timeless legend!</td>\n",
              "      <td>5.0</td>\n",
              "      <td>5.0</td>\n",
              "      <td>5.0</td>\n",
              "      <td>4.0</td>\n",
              "      <td>4.0</td>\n",
              "      <td>5.0</td>\n",
              "      <td>4.0</td>\n",
              "      <td>6</td>\n",
              "      <td>9</td>\n",
              "      <td>Everything</td>\n",
              "      <td>6 months-1 yr</td>\n",
              "      <td>42 kmpl</td>\n",
              "      <td>5000-10000 kms</td>\n",
              "    </tr>\n",
              "    <tr>\n",
              "      <th>3</th>\n",
              "      <td>Naman Mahajan</td>\n",
              "      <td>03 April 2022</td>\n",
              "      <td>5</td>\n",
              "      <td>Nice review</td>\n",
              "      <td>5.0</td>\n",
              "      <td>5.0</td>\n",
              "      <td>5.0</td>\n",
              "      <td>0.0</td>\n",
              "      <td>0.0</td>\n",
              "      <td>5.0</td>\n",
              "      <td>0.0</td>\n",
              "      <td>5</td>\n",
              "      <td>9</td>\n",
              "      <td>Everything</td>\n",
              "      <td>&gt; 1 yr</td>\n",
              "      <td>33 kmpl</td>\n",
              "      <td>&gt; 15000 kms</td>\n",
              "    </tr>\n",
              "    <tr>\n",
              "      <th>4</th>\n",
              "      <td>Vishal Upadhyay</td>\n",
              "      <td>03 April 2022</td>\n",
              "      <td>5</td>\n",
              "      <td>Dream bike</td>\n",
              "      <td>5.0</td>\n",
              "      <td>5.0</td>\n",
              "      <td>5.0</td>\n",
              "      <td>0.0</td>\n",
              "      <td>0.0</td>\n",
              "      <td>5.0</td>\n",
              "      <td>0.0</td>\n",
              "      <td>3</td>\n",
              "      <td>1</td>\n",
              "      <td>Daily Commute</td>\n",
              "      <td>&gt; 1 yr</td>\n",
              "      <td>38 kmpl</td>\n",
              "      <td>&gt; 15000 kms</td>\n",
              "    </tr>\n",
              "  </tbody>\n",
              "</table>\n",
              "</div>\n",
              "      <button class=\"colab-df-convert\" onclick=\"convertToInteractive('df-3d86ed9f-e3c5-455f-9dc1-27e7c53942af')\"\n",
              "              title=\"Convert this dataframe to an interactive table.\"\n",
              "              style=\"display:none;\">\n",
              "        \n",
              "  <svg xmlns=\"http://www.w3.org/2000/svg\" height=\"24px\"viewBox=\"0 0 24 24\"\n",
              "       width=\"24px\">\n",
              "    <path d=\"M0 0h24v24H0V0z\" fill=\"none\"/>\n",
              "    <path d=\"M18.56 5.44l.94 2.06.94-2.06 2.06-.94-2.06-.94-.94-2.06-.94 2.06-2.06.94zm-11 1L8.5 8.5l.94-2.06 2.06-.94-2.06-.94L8.5 2.5l-.94 2.06-2.06.94zm10 10l.94 2.06.94-2.06 2.06-.94-2.06-.94-.94-2.06-.94 2.06-2.06.94z\"/><path d=\"M17.41 7.96l-1.37-1.37c-.4-.4-.92-.59-1.43-.59-.52 0-1.04.2-1.43.59L10.3 9.45l-7.72 7.72c-.78.78-.78 2.05 0 2.83L4 21.41c.39.39.9.59 1.41.59.51 0 1.02-.2 1.41-.59l7.78-7.78 2.81-2.81c.8-.78.8-2.07 0-2.86zM5.41 20L4 18.59l7.72-7.72 1.47 1.35L5.41 20z\"/>\n",
              "  </svg>\n",
              "      </button>\n",
              "      \n",
              "  <style>\n",
              "    .colab-df-container {\n",
              "      display:flex;\n",
              "      flex-wrap:wrap;\n",
              "      gap: 12px;\n",
              "    }\n",
              "\n",
              "    .colab-df-convert {\n",
              "      background-color: #E8F0FE;\n",
              "      border: none;\n",
              "      border-radius: 50%;\n",
              "      cursor: pointer;\n",
              "      display: none;\n",
              "      fill: #1967D2;\n",
              "      height: 32px;\n",
              "      padding: 0 0 0 0;\n",
              "      width: 32px;\n",
              "    }\n",
              "\n",
              "    .colab-df-convert:hover {\n",
              "      background-color: #E2EBFA;\n",
              "      box-shadow: 0px 1px 2px rgba(60, 64, 67, 0.3), 0px 1px 3px 1px rgba(60, 64, 67, 0.15);\n",
              "      fill: #174EA6;\n",
              "    }\n",
              "\n",
              "    [theme=dark] .colab-df-convert {\n",
              "      background-color: #3B4455;\n",
              "      fill: #D2E3FC;\n",
              "    }\n",
              "\n",
              "    [theme=dark] .colab-df-convert:hover {\n",
              "      background-color: #434B5C;\n",
              "      box-shadow: 0px 1px 3px 1px rgba(0, 0, 0, 0.15);\n",
              "      filter: drop-shadow(0px 1px 2px rgba(0, 0, 0, 0.3));\n",
              "      fill: #FFFFFF;\n",
              "    }\n",
              "  </style>\n",
              "\n",
              "      <script>\n",
              "        const buttonEl =\n",
              "          document.querySelector('#df-3d86ed9f-e3c5-455f-9dc1-27e7c53942af button.colab-df-convert');\n",
              "        buttonEl.style.display =\n",
              "          google.colab.kernel.accessAllowed ? 'block' : 'none';\n",
              "\n",
              "        async function convertToInteractive(key) {\n",
              "          const element = document.querySelector('#df-3d86ed9f-e3c5-455f-9dc1-27e7c53942af');\n",
              "          const dataTable =\n",
              "            await google.colab.kernel.invokeFunction('convertToInteractive',\n",
              "                                                     [key], {});\n",
              "          if (!dataTable) return;\n",
              "\n",
              "          const docLinkHtml = 'Like what you see? Visit the ' +\n",
              "            '<a target=\"_blank\" href=https://colab.research.google.com/notebooks/data_table.ipynb>data table notebook</a>'\n",
              "            + ' to learn more about interactive tables.';\n",
              "          element.innerHTML = '';\n",
              "          dataTable['output_type'] = 'display_data';\n",
              "          await google.colab.output.renderOutput(dataTable, element);\n",
              "          const docLink = document.createElement('div');\n",
              "          docLink.innerHTML = docLinkHtml;\n",
              "          element.appendChild(docLink);\n",
              "        }\n",
              "      </script>\n",
              "    </div>\n",
              "  </div>\n",
              "  "
            ],
            "text/plain": [
              "              Name           Year  Rating  \\\n",
              "0      Tarun Kumar    02 May 2022       5   \n",
              "1  Mohammed Mujeeb    01 May 2022       5   \n",
              "2  Shubham Sadhuka  30 April 2022       4   \n",
              "3    Naman Mahajan  03 April 2022       5   \n",
              "4  Vishal Upadhyay  03 April 2022       5   \n",
              "\n",
              "                           Description  Visual Appeal  Reliability  \\\n",
              "0           Best ever review of bullet            5.0          5.0   \n",
              "1  Pleasure to suggest you are classic            5.0          5.0   \n",
              "2                   A timeless legend!            5.0          5.0   \n",
              "3                          Nice review            5.0          5.0   \n",
              "4                           Dream bike            5.0          5.0   \n",
              "\n",
              "   Performance  Comfort  Service Experience  Maintenance cost  Extra Features  \\\n",
              "0          5.0      4.0                 4.0               5.0             4.0   \n",
              "1          5.0      0.0                 0.0               5.0             0.0   \n",
              "2          5.0      4.0                 4.0               5.0             4.0   \n",
              "3          5.0      0.0                 0.0               5.0             0.0   \n",
              "4          5.0      0.0                 0.0               5.0             0.0   \n",
              "\n",
              "   Likes  Dislikes    Used it for      Owned for  Mileage      Ridden for  \n",
              "0      0         0  Daily Commute         > 1 yr  28 kmpl      < 5000 kms  \n",
              "1      3         5  Daily Commute         > 1 yr  30 kmpl     > 15000 kms  \n",
              "2      6         9     Everything  6 months-1 yr  42 kmpl  5000-10000 kms  \n",
              "3      5         9     Everything         > 1 yr  33 kmpl     > 15000 kms  \n",
              "4      3         1  Daily Commute         > 1 yr  38 kmpl     > 15000 kms  "
            ]
          },
          "execution_count": 13,
          "metadata": {},
          "output_type": "execute_result"
        }
      ],
      "source": [
        "royalEnfieeld_df.head()\n"
      ]
    },
    {
      "cell_type": "markdown",
      "metadata": {
        "id": "ZpX3NQ0_gbwG"
      },
      "source": [
        "# Sentimental Analysis"
      ]
    },
    {
      "cell_type": "code",
      "execution_count": null,
      "metadata": {
        "id": "7yyauzl_CP1X"
      },
      "outputs": [],
      "source": [
        "polarity = []\n",
        "subjectivity = []\n",
        "for i in royalEnfieeld_df['Description'].values:\n",
        "  try:\n",
        "    analysis = TextBlob(i)\n",
        "    polarity.append(analysis.sentiment.polarity)\n",
        "    subjectivity.append(analysis.sentiment.subjectivity)\n",
        "\n",
        "  except:\n",
        "    polarity.append(0)\n",
        "    subjectivity.append(0)\n",
        "    royalEnfieeld_df['polarity'] = polarity\n",
        "    royalEnfieeld_df['subjectivity'] = subjectivity"
      ]
    },
    {
      "cell_type": "code",
      "execution_count": null,
      "metadata": {
        "id": "atbCrpC1nyfL"
      },
      "outputs": [],
      "source": [
        "royalEnfieeld_df['polarity']=polarity\n",
        "royalEnfieeld_df['subjectivity']=subjectivity"
      ]
    },
    {
      "cell_type": "code",
      "execution_count": null,
      "metadata": {
        "colab": {
          "base_uri": "https://localhost:8080/"
        },
        "id": "Iir6fhH9nFjs",
        "outputId": "3cb4d495-a99f-4cf7-d2e3-ea9d7f6f7a96"
      },
      "outputs": [
        {
          "name": "stderr",
          "output_type": "stream",
          "text": [
            "/usr/local/lib/python3.7/dist-packages/ipykernel_launcher.py:8: SettingWithCopyWarning: \n",
            "A value is trying to be set on a copy of a slice from a DataFrame\n",
            "\n",
            "See the caveats in the documentation: https://pandas.pydata.org/pandas-docs/stable/user_guide/indexing.html#returning-a-view-versus-a-copy\n",
            "  \n",
            "/usr/local/lib/python3.7/dist-packages/ipykernel_launcher.py:9: SettingWithCopyWarning: \n",
            "A value is trying to be set on a copy of a slice from a DataFrame\n",
            "\n",
            "See the caveats in the documentation: https://pandas.pydata.org/pandas-docs/stable/user_guide/indexing.html#returning-a-view-versus-a-copy\n",
            "  if __name__ == '__main__':\n",
            "/usr/local/lib/python3.7/dist-packages/ipykernel_launcher.py:10: SettingWithCopyWarning: \n",
            "A value is trying to be set on a copy of a slice from a DataFrame\n",
            "\n",
            "See the caveats in the documentation: https://pandas.pydata.org/pandas-docs/stable/user_guide/indexing.html#returning-a-view-versus-a-copy\n",
            "  # Remove the CWD from sys.path while we load stuff.\n",
            "/usr/local/lib/python3.7/dist-packages/ipykernel_launcher.py:11: SettingWithCopyWarning: \n",
            "A value is trying to be set on a copy of a slice from a DataFrame\n",
            "\n",
            "See the caveats in the documentation: https://pandas.pydata.org/pandas-docs/stable/user_guide/indexing.html#returning-a-view-versus-a-copy\n",
            "  # This is added back by InteractiveShellApp.init_path()\n",
            "/usr/local/lib/python3.7/dist-packages/ipykernel_launcher.py:18: SettingWithCopyWarning: \n",
            "A value is trying to be set on a copy of a slice from a DataFrame\n",
            "\n",
            "See the caveats in the documentation: https://pandas.pydata.org/pandas-docs/stable/user_guide/indexing.html#returning-a-view-versus-a-copy\n",
            "/usr/local/lib/python3.7/dist-packages/ipykernel_launcher.py:19: SettingWithCopyWarning: \n",
            "A value is trying to be set on a copy of a slice from a DataFrame\n",
            "\n",
            "See the caveats in the documentation: https://pandas.pydata.org/pandas-docs/stable/user_guide/indexing.html#returning-a-view-versus-a-copy\n",
            "/usr/local/lib/python3.7/dist-packages/ipykernel_launcher.py:20: SettingWithCopyWarning: \n",
            "A value is trying to be set on a copy of a slice from a DataFrame\n",
            "\n",
            "See the caveats in the documentation: https://pandas.pydata.org/pandas-docs/stable/user_guide/indexing.html#returning-a-view-versus-a-copy\n",
            "/usr/local/lib/python3.7/dist-packages/ipykernel_launcher.py:21: SettingWithCopyWarning: \n",
            "A value is trying to be set on a copy of a slice from a DataFrame\n",
            "\n",
            "See the caveats in the documentation: https://pandas.pydata.org/pandas-docs/stable/user_guide/indexing.html#returning-a-view-versus-a-copy\n",
            "/usr/local/lib/python3.7/dist-packages/ipykernel_launcher.py:13: SettingWithCopyWarning: \n",
            "A value is trying to be set on a copy of a slice from a DataFrame\n",
            "\n",
            "See the caveats in the documentation: https://pandas.pydata.org/pandas-docs/stable/user_guide/indexing.html#returning-a-view-versus-a-copy\n",
            "  del sys.path[0]\n",
            "/usr/local/lib/python3.7/dist-packages/ipykernel_launcher.py:14: SettingWithCopyWarning: \n",
            "A value is trying to be set on a copy of a slice from a DataFrame\n",
            "\n",
            "See the caveats in the documentation: https://pandas.pydata.org/pandas-docs/stable/user_guide/indexing.html#returning-a-view-versus-a-copy\n",
            "  \n",
            "/usr/local/lib/python3.7/dist-packages/ipykernel_launcher.py:15: SettingWithCopyWarning: \n",
            "A value is trying to be set on a copy of a slice from a DataFrame\n",
            "\n",
            "See the caveats in the documentation: https://pandas.pydata.org/pandas-docs/stable/user_guide/indexing.html#returning-a-view-versus-a-copy\n",
            "  from ipykernel import kernelapp as app\n",
            "/usr/local/lib/python3.7/dist-packages/ipykernel_launcher.py:16: SettingWithCopyWarning: \n",
            "A value is trying to be set on a copy of a slice from a DataFrame\n",
            "\n",
            "See the caveats in the documentation: https://pandas.pydata.org/pandas-docs/stable/user_guide/indexing.html#returning-a-view-versus-a-copy\n",
            "  app.launch_new_instance()\n"
          ]
        }
      ],
      "source": [
        "royalEnfieeld_df['Final Result'] = None\n",
        "royalEnfieeld_df['Positive Reviews'] = None\n",
        "royalEnfieeld_df['Negative Reviews'] = None\n",
        "royalEnfieeld_df['Neutral Reviews'] = None\n",
        "for i in range(0,len(royalEnfieeld_df)):\n",
        "    final=TextBlob(royalEnfieeld_df['Description'][i])\n",
        "    if final.sentiment.polarity > 0:\n",
        "        royalEnfieeld_df['Final Result'][i]='Positive'\n",
        "        royalEnfieeld_df['Positive Reviews'][i] = 1\n",
        "        royalEnfieeld_df['Negative Reviews'][i] = 0\n",
        "        royalEnfieeld_df['Neutral Reviews'][i] = 0\n",
        "    elif final.sentiment.polarity < 0:\n",
        "        royalEnfieeld_df['Final Result'][i]='Negative'\n",
        "        royalEnfieeld_df['Positive Reviews'][i] = 0\n",
        "        royalEnfieeld_df['Negative Reviews'][i] = 1\n",
        "        royalEnfieeld_df['Neutral Reviews'][i] = 0\n",
        "    else:\n",
        "        royalEnfieeld_df['Final Result'][i]='Neutral'\n",
        "        royalEnfieeld_df['Positive Reviews'][i] = 0\n",
        "        royalEnfieeld_df['Negative Reviews'][i] = 0\n",
        "        royalEnfieeld_df['Neutral Reviews'][i] = 1\n"
      ]
    },
    {
      "cell_type": "code",
      "execution_count": null,
      "metadata": {
        "colab": {
          "base_uri": "https://localhost:8080/",
          "height": 490
        },
        "id": "zmkfH5wC0yZ7",
        "outputId": "51a11cee-c6af-4790-e8e2-914b266713a9"
      },
      "outputs": [
        {
          "data": {
            "text/html": [
              "\n",
              "  <div id=\"df-0f6b7b92-6b78-437a-ac9c-54655a866d72\">\n",
              "    <div class=\"colab-df-container\">\n",
              "      <div>\n",
              "<style scoped>\n",
              "    .dataframe tbody tr th:only-of-type {\n",
              "        vertical-align: middle;\n",
              "    }\n",
              "\n",
              "    .dataframe tbody tr th {\n",
              "        vertical-align: top;\n",
              "    }\n",
              "\n",
              "    .dataframe thead th {\n",
              "        text-align: right;\n",
              "    }\n",
              "</style>\n",
              "<table border=\"1\" class=\"dataframe\">\n",
              "  <thead>\n",
              "    <tr style=\"text-align: right;\">\n",
              "      <th></th>\n",
              "      <th>Name</th>\n",
              "      <th>Year</th>\n",
              "      <th>Rating</th>\n",
              "      <th>Description</th>\n",
              "      <th>Visual Appeal</th>\n",
              "      <th>Reliability</th>\n",
              "      <th>Performance</th>\n",
              "      <th>Comfort</th>\n",
              "      <th>Service Experience</th>\n",
              "      <th>Maintenance cost</th>\n",
              "      <th>...</th>\n",
              "      <th>Used it for</th>\n",
              "      <th>Owned for</th>\n",
              "      <th>Mileage</th>\n",
              "      <th>Ridden for</th>\n",
              "      <th>polarity</th>\n",
              "      <th>subjectivity</th>\n",
              "      <th>Final Result</th>\n",
              "      <th>Positive Reviews</th>\n",
              "      <th>Negative Reviews</th>\n",
              "      <th>Neutral Reviews</th>\n",
              "    </tr>\n",
              "  </thead>\n",
              "  <tbody>\n",
              "    <tr>\n",
              "      <th>0</th>\n",
              "      <td>Tarun Kumar</td>\n",
              "      <td>02 May 2022</td>\n",
              "      <td>5</td>\n",
              "      <td>Best ever review of bullet</td>\n",
              "      <td>5.0</td>\n",
              "      <td>5.0</td>\n",
              "      <td>5.0</td>\n",
              "      <td>4.0</td>\n",
              "      <td>4.0</td>\n",
              "      <td>5.0</td>\n",
              "      <td>...</td>\n",
              "      <td>Daily Commute</td>\n",
              "      <td>&gt; 1 yr</td>\n",
              "      <td>28 kmpl</td>\n",
              "      <td>&lt; 5000 kms</td>\n",
              "      <td>1.000000</td>\n",
              "      <td>0.300000</td>\n",
              "      <td>Positive</td>\n",
              "      <td>1</td>\n",
              "      <td>0</td>\n",
              "      <td>0</td>\n",
              "    </tr>\n",
              "    <tr>\n",
              "      <th>1</th>\n",
              "      <td>Mohammed Mujeeb</td>\n",
              "      <td>01 May 2022</td>\n",
              "      <td>5</td>\n",
              "      <td>Pleasure to suggest you are classic</td>\n",
              "      <td>5.0</td>\n",
              "      <td>5.0</td>\n",
              "      <td>5.0</td>\n",
              "      <td>0.0</td>\n",
              "      <td>0.0</td>\n",
              "      <td>5.0</td>\n",
              "      <td>...</td>\n",
              "      <td>Daily Commute</td>\n",
              "      <td>&gt; 1 yr</td>\n",
              "      <td>30 kmpl</td>\n",
              "      <td>&gt; 15000 kms</td>\n",
              "      <td>0.166667</td>\n",
              "      <td>0.166667</td>\n",
              "      <td>Positive</td>\n",
              "      <td>1</td>\n",
              "      <td>0</td>\n",
              "      <td>0</td>\n",
              "    </tr>\n",
              "    <tr>\n",
              "      <th>2</th>\n",
              "      <td>Shubham Sadhuka</td>\n",
              "      <td>30 April 2022</td>\n",
              "      <td>4</td>\n",
              "      <td>A timeless legend!</td>\n",
              "      <td>5.0</td>\n",
              "      <td>5.0</td>\n",
              "      <td>5.0</td>\n",
              "      <td>4.0</td>\n",
              "      <td>4.0</td>\n",
              "      <td>5.0</td>\n",
              "      <td>...</td>\n",
              "      <td>Everything</td>\n",
              "      <td>6 months-1 yr</td>\n",
              "      <td>42 kmpl</td>\n",
              "      <td>5000-10000 kms</td>\n",
              "      <td>0.000000</td>\n",
              "      <td>0.000000</td>\n",
              "      <td>Neutral</td>\n",
              "      <td>0</td>\n",
              "      <td>0</td>\n",
              "      <td>1</td>\n",
              "    </tr>\n",
              "    <tr>\n",
              "      <th>3</th>\n",
              "      <td>Naman Mahajan</td>\n",
              "      <td>03 April 2022</td>\n",
              "      <td>5</td>\n",
              "      <td>Nice review</td>\n",
              "      <td>5.0</td>\n",
              "      <td>5.0</td>\n",
              "      <td>5.0</td>\n",
              "      <td>0.0</td>\n",
              "      <td>0.0</td>\n",
              "      <td>5.0</td>\n",
              "      <td>...</td>\n",
              "      <td>Everything</td>\n",
              "      <td>&gt; 1 yr</td>\n",
              "      <td>33 kmpl</td>\n",
              "      <td>&gt; 15000 kms</td>\n",
              "      <td>0.600000</td>\n",
              "      <td>1.000000</td>\n",
              "      <td>Positive</td>\n",
              "      <td>1</td>\n",
              "      <td>0</td>\n",
              "      <td>0</td>\n",
              "    </tr>\n",
              "    <tr>\n",
              "      <th>4</th>\n",
              "      <td>Vishal Upadhyay</td>\n",
              "      <td>03 April 2022</td>\n",
              "      <td>5</td>\n",
              "      <td>Dream bike</td>\n",
              "      <td>5.0</td>\n",
              "      <td>5.0</td>\n",
              "      <td>5.0</td>\n",
              "      <td>0.0</td>\n",
              "      <td>0.0</td>\n",
              "      <td>5.0</td>\n",
              "      <td>...</td>\n",
              "      <td>Daily Commute</td>\n",
              "      <td>&gt; 1 yr</td>\n",
              "      <td>38 kmpl</td>\n",
              "      <td>&gt; 15000 kms</td>\n",
              "      <td>0.000000</td>\n",
              "      <td>0.000000</td>\n",
              "      <td>Neutral</td>\n",
              "      <td>0</td>\n",
              "      <td>0</td>\n",
              "      <td>1</td>\n",
              "    </tr>\n",
              "  </tbody>\n",
              "</table>\n",
              "<p>5 rows × 23 columns</p>\n",
              "</div>\n",
              "      <button class=\"colab-df-convert\" onclick=\"convertToInteractive('df-0f6b7b92-6b78-437a-ac9c-54655a866d72')\"\n",
              "              title=\"Convert this dataframe to an interactive table.\"\n",
              "              style=\"display:none;\">\n",
              "        \n",
              "  <svg xmlns=\"http://www.w3.org/2000/svg\" height=\"24px\"viewBox=\"0 0 24 24\"\n",
              "       width=\"24px\">\n",
              "    <path d=\"M0 0h24v24H0V0z\" fill=\"none\"/>\n",
              "    <path d=\"M18.56 5.44l.94 2.06.94-2.06 2.06-.94-2.06-.94-.94-2.06-.94 2.06-2.06.94zm-11 1L8.5 8.5l.94-2.06 2.06-.94-2.06-.94L8.5 2.5l-.94 2.06-2.06.94zm10 10l.94 2.06.94-2.06 2.06-.94-2.06-.94-.94-2.06-.94 2.06-2.06.94z\"/><path d=\"M17.41 7.96l-1.37-1.37c-.4-.4-.92-.59-1.43-.59-.52 0-1.04.2-1.43.59L10.3 9.45l-7.72 7.72c-.78.78-.78 2.05 0 2.83L4 21.41c.39.39.9.59 1.41.59.51 0 1.02-.2 1.41-.59l7.78-7.78 2.81-2.81c.8-.78.8-2.07 0-2.86zM5.41 20L4 18.59l7.72-7.72 1.47 1.35L5.41 20z\"/>\n",
              "  </svg>\n",
              "      </button>\n",
              "      \n",
              "  <style>\n",
              "    .colab-df-container {\n",
              "      display:flex;\n",
              "      flex-wrap:wrap;\n",
              "      gap: 12px;\n",
              "    }\n",
              "\n",
              "    .colab-df-convert {\n",
              "      background-color: #E8F0FE;\n",
              "      border: none;\n",
              "      border-radius: 50%;\n",
              "      cursor: pointer;\n",
              "      display: none;\n",
              "      fill: #1967D2;\n",
              "      height: 32px;\n",
              "      padding: 0 0 0 0;\n",
              "      width: 32px;\n",
              "    }\n",
              "\n",
              "    .colab-df-convert:hover {\n",
              "      background-color: #E2EBFA;\n",
              "      box-shadow: 0px 1px 2px rgba(60, 64, 67, 0.3), 0px 1px 3px 1px rgba(60, 64, 67, 0.15);\n",
              "      fill: #174EA6;\n",
              "    }\n",
              "\n",
              "    [theme=dark] .colab-df-convert {\n",
              "      background-color: #3B4455;\n",
              "      fill: #D2E3FC;\n",
              "    }\n",
              "\n",
              "    [theme=dark] .colab-df-convert:hover {\n",
              "      background-color: #434B5C;\n",
              "      box-shadow: 0px 1px 3px 1px rgba(0, 0, 0, 0.15);\n",
              "      filter: drop-shadow(0px 1px 2px rgba(0, 0, 0, 0.3));\n",
              "      fill: #FFFFFF;\n",
              "    }\n",
              "  </style>\n",
              "\n",
              "      <script>\n",
              "        const buttonEl =\n",
              "          document.querySelector('#df-0f6b7b92-6b78-437a-ac9c-54655a866d72 button.colab-df-convert');\n",
              "        buttonEl.style.display =\n",
              "          google.colab.kernel.accessAllowed ? 'block' : 'none';\n",
              "\n",
              "        async function convertToInteractive(key) {\n",
              "          const element = document.querySelector('#df-0f6b7b92-6b78-437a-ac9c-54655a866d72');\n",
              "          const dataTable =\n",
              "            await google.colab.kernel.invokeFunction('convertToInteractive',\n",
              "                                                     [key], {});\n",
              "          if (!dataTable) return;\n",
              "\n",
              "          const docLinkHtml = 'Like what you see? Visit the ' +\n",
              "            '<a target=\"_blank\" href=https://colab.research.google.com/notebooks/data_table.ipynb>data table notebook</a>'\n",
              "            + ' to learn more about interactive tables.';\n",
              "          element.innerHTML = '';\n",
              "          dataTable['output_type'] = 'display_data';\n",
              "          await google.colab.output.renderOutput(dataTable, element);\n",
              "          const docLink = document.createElement('div');\n",
              "          docLink.innerHTML = docLinkHtml;\n",
              "          element.appendChild(docLink);\n",
              "        }\n",
              "      </script>\n",
              "    </div>\n",
              "  </div>\n",
              "  "
            ],
            "text/plain": [
              "              Name           Year  Rating  \\\n",
              "0      Tarun Kumar    02 May 2022       5   \n",
              "1  Mohammed Mujeeb    01 May 2022       5   \n",
              "2  Shubham Sadhuka  30 April 2022       4   \n",
              "3    Naman Mahajan  03 April 2022       5   \n",
              "4  Vishal Upadhyay  03 April 2022       5   \n",
              "\n",
              "                           Description  Visual Appeal  Reliability  \\\n",
              "0           Best ever review of bullet            5.0          5.0   \n",
              "1  Pleasure to suggest you are classic            5.0          5.0   \n",
              "2                   A timeless legend!            5.0          5.0   \n",
              "3                          Nice review            5.0          5.0   \n",
              "4                           Dream bike            5.0          5.0   \n",
              "\n",
              "   Performance  Comfort  Service Experience  Maintenance cost  ...  \\\n",
              "0          5.0      4.0                 4.0               5.0  ...   \n",
              "1          5.0      0.0                 0.0               5.0  ...   \n",
              "2          5.0      4.0                 4.0               5.0  ...   \n",
              "3          5.0      0.0                 0.0               5.0  ...   \n",
              "4          5.0      0.0                 0.0               5.0  ...   \n",
              "\n",
              "     Used it for      Owned for  Mileage      Ridden for  polarity  \\\n",
              "0  Daily Commute         > 1 yr  28 kmpl      < 5000 kms  1.000000   \n",
              "1  Daily Commute         > 1 yr  30 kmpl     > 15000 kms  0.166667   \n",
              "2     Everything  6 months-1 yr  42 kmpl  5000-10000 kms  0.000000   \n",
              "3     Everything         > 1 yr  33 kmpl     > 15000 kms  0.600000   \n",
              "4  Daily Commute         > 1 yr  38 kmpl     > 15000 kms  0.000000   \n",
              "\n",
              "  subjectivity Final Result  Positive Reviews  Negative Reviews  \\\n",
              "0     0.300000     Positive                 1                 0   \n",
              "1     0.166667     Positive                 1                 0   \n",
              "2     0.000000      Neutral                 0                 0   \n",
              "3     1.000000     Positive                 1                 0   \n",
              "4     0.000000      Neutral                 0                 0   \n",
              "\n",
              "  Neutral Reviews  \n",
              "0               0  \n",
              "1               0  \n",
              "2               1  \n",
              "3               0  \n",
              "4               1  \n",
              "\n",
              "[5 rows x 23 columns]"
            ]
          },
          "execution_count": 17,
          "metadata": {},
          "output_type": "execute_result"
        }
      ],
      "source": [
        "royalEnfieeld_df.head()"
      ]
    },
    {
      "cell_type": "code",
      "execution_count": null,
      "metadata": {
        "colab": {
          "base_uri": "https://localhost:8080/",
          "height": 490
        },
        "id": "iEaznvK3nMj6",
        "outputId": "3fc4ea26-0432-4418-83e3-24f821f93ed2"
      },
      "outputs": [
        {
          "data": {
            "text/html": [
              "\n",
              "  <div id=\"df-ffaba755-e7ef-4485-9c17-e79bbea14457\">\n",
              "    <div class=\"colab-df-container\">\n",
              "      <div>\n",
              "<style scoped>\n",
              "    .dataframe tbody tr th:only-of-type {\n",
              "        vertical-align: middle;\n",
              "    }\n",
              "\n",
              "    .dataframe tbody tr th {\n",
              "        vertical-align: top;\n",
              "    }\n",
              "\n",
              "    .dataframe thead th {\n",
              "        text-align: right;\n",
              "    }\n",
              "</style>\n",
              "<table border=\"1\" class=\"dataframe\">\n",
              "  <thead>\n",
              "    <tr style=\"text-align: right;\">\n",
              "      <th></th>\n",
              "      <th>Name</th>\n",
              "      <th>Year</th>\n",
              "      <th>Rating</th>\n",
              "      <th>Description</th>\n",
              "      <th>Visual Appeal</th>\n",
              "      <th>Reliability</th>\n",
              "      <th>Performance</th>\n",
              "      <th>Comfort</th>\n",
              "      <th>Service Experience</th>\n",
              "      <th>Maintenance cost</th>\n",
              "      <th>...</th>\n",
              "      <th>Used it for</th>\n",
              "      <th>Owned for</th>\n",
              "      <th>Mileage</th>\n",
              "      <th>Ridden for</th>\n",
              "      <th>polarity</th>\n",
              "      <th>subjectivity</th>\n",
              "      <th>Final Result</th>\n",
              "      <th>Positive Reviews</th>\n",
              "      <th>Negative Reviews</th>\n",
              "      <th>Neutral Reviews</th>\n",
              "    </tr>\n",
              "  </thead>\n",
              "  <tbody>\n",
              "    <tr>\n",
              "      <th>23</th>\n",
              "      <td>Rajkumar</td>\n",
              "      <td>04 November 2021</td>\n",
              "      <td>1</td>\n",
              "      <td>Very poor</td>\n",
              "      <td>0.0</td>\n",
              "      <td>0.0</td>\n",
              "      <td>0.0</td>\n",
              "      <td>4.0</td>\n",
              "      <td>4.0</td>\n",
              "      <td>0.0</td>\n",
              "      <td>...</td>\n",
              "      <td>Daily Commute</td>\n",
              "      <td>&gt; 1 yr</td>\n",
              "      <td>30 kmpl</td>\n",
              "      <td>5000-10000 kms</td>\n",
              "      <td>-0.520</td>\n",
              "      <td>0.780</td>\n",
              "      <td>Negative</td>\n",
              "      <td>0</td>\n",
              "      <td>1</td>\n",
              "      <td>0</td>\n",
              "    </tr>\n",
              "    <tr>\n",
              "      <th>37</th>\n",
              "      <td>Vishwanath L</td>\n",
              "      <td>05 September 2021</td>\n",
              "      <td>4</td>\n",
              "      <td>Coming to the looks  other bikes can be compar...</td>\n",
              "      <td>5.0</td>\n",
              "      <td>5.0</td>\n",
              "      <td>0.0</td>\n",
              "      <td>4.0</td>\n",
              "      <td>4.0</td>\n",
              "      <td>0.0</td>\n",
              "      <td>...</td>\n",
              "      <td>Everything</td>\n",
              "      <td>Never owned</td>\n",
              "      <td>0</td>\n",
              "      <td>37 kmpl</td>\n",
              "      <td>-0.125</td>\n",
              "      <td>0.375</td>\n",
              "      <td>Negative</td>\n",
              "      <td>0</td>\n",
              "      <td>1</td>\n",
              "      <td>0</td>\n",
              "    </tr>\n",
              "    <tr>\n",
              "      <th>51</th>\n",
              "      <td>Manivannan M</td>\n",
              "      <td>07 June 2021</td>\n",
              "      <td>1</td>\n",
              "      <td>Worst bike</td>\n",
              "      <td>0.0</td>\n",
              "      <td>0.0</td>\n",
              "      <td>0.0</td>\n",
              "      <td>0.0</td>\n",
              "      <td>0.0</td>\n",
              "      <td>0.0</td>\n",
              "      <td>...</td>\n",
              "      <td>Daily Commute</td>\n",
              "      <td>&lt; 3 months</td>\n",
              "      <td>19 kmpl</td>\n",
              "      <td>&lt; 5000 kms</td>\n",
              "      <td>-1.000</td>\n",
              "      <td>1.000</td>\n",
              "      <td>Negative</td>\n",
              "      <td>0</td>\n",
              "      <td>1</td>\n",
              "      <td>0</td>\n",
              "    </tr>\n",
              "    <tr>\n",
              "      <th>68</th>\n",
              "      <td>Manish</td>\n",
              "      <td>02 May 2022</td>\n",
              "      <td>1</td>\n",
              "      <td>Worst service and quality of the product.</td>\n",
              "      <td>5.0</td>\n",
              "      <td>0.0</td>\n",
              "      <td>0.0</td>\n",
              "      <td>4.0</td>\n",
              "      <td>0.0</td>\n",
              "      <td>0.0</td>\n",
              "      <td>...</td>\n",
              "      <td>Occasional Commute</td>\n",
              "      <td>6 months-1 yr</td>\n",
              "      <td>35 kmpl</td>\n",
              "      <td>5000-10000 kms</td>\n",
              "      <td>-1.000</td>\n",
              "      <td>1.000</td>\n",
              "      <td>Negative</td>\n",
              "      <td>0</td>\n",
              "      <td>1</td>\n",
              "      <td>0</td>\n",
              "    </tr>\n",
              "    <tr>\n",
              "      <th>88</th>\n",
              "      <td>Rajesh P</td>\n",
              "      <td>02 May 2022</td>\n",
              "      <td>1</td>\n",
              "      <td>Waste of money</td>\n",
              "      <td>0.0</td>\n",
              "      <td>0.0</td>\n",
              "      <td>0.0</td>\n",
              "      <td>0.0</td>\n",
              "      <td>0.0</td>\n",
              "      <td>0.0</td>\n",
              "      <td>...</td>\n",
              "      <td>Daily Commute</td>\n",
              "      <td>3-6 months</td>\n",
              "      <td>0</td>\n",
              "      <td>&lt; 5000 kms</td>\n",
              "      <td>-0.200</td>\n",
              "      <td>0.000</td>\n",
              "      <td>Negative</td>\n",
              "      <td>0</td>\n",
              "      <td>1</td>\n",
              "      <td>0</td>\n",
              "    </tr>\n",
              "  </tbody>\n",
              "</table>\n",
              "<p>5 rows × 23 columns</p>\n",
              "</div>\n",
              "      <button class=\"colab-df-convert\" onclick=\"convertToInteractive('df-ffaba755-e7ef-4485-9c17-e79bbea14457')\"\n",
              "              title=\"Convert this dataframe to an interactive table.\"\n",
              "              style=\"display:none;\">\n",
              "        \n",
              "  <svg xmlns=\"http://www.w3.org/2000/svg\" height=\"24px\"viewBox=\"0 0 24 24\"\n",
              "       width=\"24px\">\n",
              "    <path d=\"M0 0h24v24H0V0z\" fill=\"none\"/>\n",
              "    <path d=\"M18.56 5.44l.94 2.06.94-2.06 2.06-.94-2.06-.94-.94-2.06-.94 2.06-2.06.94zm-11 1L8.5 8.5l.94-2.06 2.06-.94-2.06-.94L8.5 2.5l-.94 2.06-2.06.94zm10 10l.94 2.06.94-2.06 2.06-.94-2.06-.94-.94-2.06-.94 2.06-2.06.94z\"/><path d=\"M17.41 7.96l-1.37-1.37c-.4-.4-.92-.59-1.43-.59-.52 0-1.04.2-1.43.59L10.3 9.45l-7.72 7.72c-.78.78-.78 2.05 0 2.83L4 21.41c.39.39.9.59 1.41.59.51 0 1.02-.2 1.41-.59l7.78-7.78 2.81-2.81c.8-.78.8-2.07 0-2.86zM5.41 20L4 18.59l7.72-7.72 1.47 1.35L5.41 20z\"/>\n",
              "  </svg>\n",
              "      </button>\n",
              "      \n",
              "  <style>\n",
              "    .colab-df-container {\n",
              "      display:flex;\n",
              "      flex-wrap:wrap;\n",
              "      gap: 12px;\n",
              "    }\n",
              "\n",
              "    .colab-df-convert {\n",
              "      background-color: #E8F0FE;\n",
              "      border: none;\n",
              "      border-radius: 50%;\n",
              "      cursor: pointer;\n",
              "      display: none;\n",
              "      fill: #1967D2;\n",
              "      height: 32px;\n",
              "      padding: 0 0 0 0;\n",
              "      width: 32px;\n",
              "    }\n",
              "\n",
              "    .colab-df-convert:hover {\n",
              "      background-color: #E2EBFA;\n",
              "      box-shadow: 0px 1px 2px rgba(60, 64, 67, 0.3), 0px 1px 3px 1px rgba(60, 64, 67, 0.15);\n",
              "      fill: #174EA6;\n",
              "    }\n",
              "\n",
              "    [theme=dark] .colab-df-convert {\n",
              "      background-color: #3B4455;\n",
              "      fill: #D2E3FC;\n",
              "    }\n",
              "\n",
              "    [theme=dark] .colab-df-convert:hover {\n",
              "      background-color: #434B5C;\n",
              "      box-shadow: 0px 1px 3px 1px rgba(0, 0, 0, 0.15);\n",
              "      filter: drop-shadow(0px 1px 2px rgba(0, 0, 0, 0.3));\n",
              "      fill: #FFFFFF;\n",
              "    }\n",
              "  </style>\n",
              "\n",
              "      <script>\n",
              "        const buttonEl =\n",
              "          document.querySelector('#df-ffaba755-e7ef-4485-9c17-e79bbea14457 button.colab-df-convert');\n",
              "        buttonEl.style.display =\n",
              "          google.colab.kernel.accessAllowed ? 'block' : 'none';\n",
              "\n",
              "        async function convertToInteractive(key) {\n",
              "          const element = document.querySelector('#df-ffaba755-e7ef-4485-9c17-e79bbea14457');\n",
              "          const dataTable =\n",
              "            await google.colab.kernel.invokeFunction('convertToInteractive',\n",
              "                                                     [key], {});\n",
              "          if (!dataTable) return;\n",
              "\n",
              "          const docLinkHtml = 'Like what you see? Visit the ' +\n",
              "            '<a target=\"_blank\" href=https://colab.research.google.com/notebooks/data_table.ipynb>data table notebook</a>'\n",
              "            + ' to learn more about interactive tables.';\n",
              "          element.innerHTML = '';\n",
              "          dataTable['output_type'] = 'display_data';\n",
              "          await google.colab.output.renderOutput(dataTable, element);\n",
              "          const docLink = document.createElement('div');\n",
              "          docLink.innerHTML = docLinkHtml;\n",
              "          element.appendChild(docLink);\n",
              "        }\n",
              "      </script>\n",
              "    </div>\n",
              "  </div>\n",
              "  "
            ],
            "text/plain": [
              "            Name               Year  Rating  \\\n",
              "23      Rajkumar   04 November 2021       1   \n",
              "37  Vishwanath L  05 September 2021       4   \n",
              "51  Manivannan M       07 June 2021       1   \n",
              "68        Manish        02 May 2022       1   \n",
              "88      Rajesh P        02 May 2022       1   \n",
              "\n",
              "                                          Description  Visual Appeal  \\\n",
              "23                                          Very poor            0.0   \n",
              "37  Coming to the looks  other bikes can be compar...            5.0   \n",
              "51                                         Worst bike            0.0   \n",
              "68          Worst service and quality of the product.            5.0   \n",
              "88                                     Waste of money            0.0   \n",
              "\n",
              "    Reliability  Performance  Comfort  Service Experience  Maintenance cost  \\\n",
              "23          0.0          0.0      4.0                 4.0               0.0   \n",
              "37          5.0          0.0      4.0                 4.0               0.0   \n",
              "51          0.0          0.0      0.0                 0.0               0.0   \n",
              "68          0.0          0.0      4.0                 0.0               0.0   \n",
              "88          0.0          0.0      0.0                 0.0               0.0   \n",
              "\n",
              "    ...         Used it for      Owned for  Mileage      Ridden for polarity  \\\n",
              "23  ...       Daily Commute         > 1 yr  30 kmpl  5000-10000 kms   -0.520   \n",
              "37  ...          Everything    Never owned        0         37 kmpl   -0.125   \n",
              "51  ...       Daily Commute     < 3 months  19 kmpl      < 5000 kms   -1.000   \n",
              "68  ...  Occasional Commute  6 months-1 yr  35 kmpl  5000-10000 kms   -1.000   \n",
              "88  ...       Daily Commute     3-6 months        0      < 5000 kms   -0.200   \n",
              "\n",
              "   subjectivity Final Result  Positive Reviews  Negative Reviews  \\\n",
              "23        0.780     Negative                 0                 1   \n",
              "37        0.375     Negative                 0                 1   \n",
              "51        1.000     Negative                 0                 1   \n",
              "68        1.000     Negative                 0                 1   \n",
              "88        0.000     Negative                 0                 1   \n",
              "\n",
              "   Neutral Reviews  \n",
              "23               0  \n",
              "37               0  \n",
              "51               0  \n",
              "68               0  \n",
              "88               0  \n",
              "\n",
              "[5 rows x 23 columns]"
            ]
          },
          "execution_count": 18,
          "metadata": {},
          "output_type": "execute_result"
        }
      ],
      "source": [
        "# Negative comments\n",
        "royalEnfieeld_df[royalEnfieeld_df.polarity<0].head(5)"
      ]
    },
    {
      "cell_type": "code",
      "execution_count": null,
      "metadata": {
        "colab": {
          "base_uri": "https://localhost:8080/",
          "height": 490
        },
        "id": "uSjVrQwgn-Bu",
        "outputId": "d78b4e10-9a6f-4fcd-aa19-164e072add82"
      },
      "outputs": [
        {
          "data": {
            "text/html": [
              "\n",
              "  <div id=\"df-77fa181d-8528-4e0f-b660-93607f5c65ba\">\n",
              "    <div class=\"colab-df-container\">\n",
              "      <div>\n",
              "<style scoped>\n",
              "    .dataframe tbody tr th:only-of-type {\n",
              "        vertical-align: middle;\n",
              "    }\n",
              "\n",
              "    .dataframe tbody tr th {\n",
              "        vertical-align: top;\n",
              "    }\n",
              "\n",
              "    .dataframe thead th {\n",
              "        text-align: right;\n",
              "    }\n",
              "</style>\n",
              "<table border=\"1\" class=\"dataframe\">\n",
              "  <thead>\n",
              "    <tr style=\"text-align: right;\">\n",
              "      <th></th>\n",
              "      <th>Name</th>\n",
              "      <th>Year</th>\n",
              "      <th>Rating</th>\n",
              "      <th>Description</th>\n",
              "      <th>Visual Appeal</th>\n",
              "      <th>Reliability</th>\n",
              "      <th>Performance</th>\n",
              "      <th>Comfort</th>\n",
              "      <th>Service Experience</th>\n",
              "      <th>Maintenance cost</th>\n",
              "      <th>...</th>\n",
              "      <th>Used it for</th>\n",
              "      <th>Owned for</th>\n",
              "      <th>Mileage</th>\n",
              "      <th>Ridden for</th>\n",
              "      <th>polarity</th>\n",
              "      <th>subjectivity</th>\n",
              "      <th>Final Result</th>\n",
              "      <th>Positive Reviews</th>\n",
              "      <th>Negative Reviews</th>\n",
              "      <th>Neutral Reviews</th>\n",
              "    </tr>\n",
              "  </thead>\n",
              "  <tbody>\n",
              "    <tr>\n",
              "      <th>2</th>\n",
              "      <td>Shubham Sadhuka</td>\n",
              "      <td>30 April 2022</td>\n",
              "      <td>4</td>\n",
              "      <td>A timeless legend!</td>\n",
              "      <td>5.0</td>\n",
              "      <td>5.0</td>\n",
              "      <td>5.0</td>\n",
              "      <td>4.0</td>\n",
              "      <td>4.0</td>\n",
              "      <td>5.0</td>\n",
              "      <td>...</td>\n",
              "      <td>Everything</td>\n",
              "      <td>6 months-1 yr</td>\n",
              "      <td>42 kmpl</td>\n",
              "      <td>5000-10000 kms</td>\n",
              "      <td>0.0</td>\n",
              "      <td>0.0</td>\n",
              "      <td>Neutral</td>\n",
              "      <td>0</td>\n",
              "      <td>0</td>\n",
              "      <td>1</td>\n",
              "    </tr>\n",
              "    <tr>\n",
              "      <th>4</th>\n",
              "      <td>Vishal Upadhyay</td>\n",
              "      <td>03 April 2022</td>\n",
              "      <td>5</td>\n",
              "      <td>Dream bike</td>\n",
              "      <td>5.0</td>\n",
              "      <td>5.0</td>\n",
              "      <td>5.0</td>\n",
              "      <td>0.0</td>\n",
              "      <td>0.0</td>\n",
              "      <td>5.0</td>\n",
              "      <td>...</td>\n",
              "      <td>Daily Commute</td>\n",
              "      <td>&gt; 1 yr</td>\n",
              "      <td>38 kmpl</td>\n",
              "      <td>&gt; 15000 kms</td>\n",
              "      <td>0.0</td>\n",
              "      <td>0.0</td>\n",
              "      <td>Neutral</td>\n",
              "      <td>0</td>\n",
              "      <td>0</td>\n",
              "      <td>1</td>\n",
              "    </tr>\n",
              "    <tr>\n",
              "      <th>5</th>\n",
              "      <td>Rinku</td>\n",
              "      <td>03 April 2022</td>\n",
              "      <td>4</td>\n",
              "      <td>Indian hunk</td>\n",
              "      <td>5.0</td>\n",
              "      <td>0.0</td>\n",
              "      <td>0.0</td>\n",
              "      <td>4.0</td>\n",
              "      <td>4.0</td>\n",
              "      <td>0.0</td>\n",
              "      <td>...</td>\n",
              "      <td>Daily Commute</td>\n",
              "      <td>&gt; 1 yr</td>\n",
              "      <td>35 kmpl</td>\n",
              "      <td>10000-15000 kms</td>\n",
              "      <td>0.0</td>\n",
              "      <td>0.0</td>\n",
              "      <td>Neutral</td>\n",
              "      <td>0</td>\n",
              "      <td>0</td>\n",
              "      <td>1</td>\n",
              "    </tr>\n",
              "    <tr>\n",
              "      <th>6</th>\n",
              "      <td>Manammal Swalih</td>\n",
              "      <td>04 March 2022</td>\n",
              "      <td>5</td>\n",
              "      <td>Improve the features</td>\n",
              "      <td>5.0</td>\n",
              "      <td>5.0</td>\n",
              "      <td>5.0</td>\n",
              "      <td>0.0</td>\n",
              "      <td>0.0</td>\n",
              "      <td>5.0</td>\n",
              "      <td>...</td>\n",
              "      <td>Everything</td>\n",
              "      <td>&gt; 1 yr</td>\n",
              "      <td>40 kmpl</td>\n",
              "      <td>&gt; 15000 kms</td>\n",
              "      <td>0.0</td>\n",
              "      <td>0.0</td>\n",
              "      <td>Neutral</td>\n",
              "      <td>0</td>\n",
              "      <td>0</td>\n",
              "      <td>1</td>\n",
              "    </tr>\n",
              "    <tr>\n",
              "      <th>10</th>\n",
              "      <td>Saroj Kumar Nayak</td>\n",
              "      <td>03 January 2022</td>\n",
              "      <td>1</td>\n",
              "      <td>10</td>\n",
              "      <td>5.0</td>\n",
              "      <td>5.0</td>\n",
              "      <td>5.0</td>\n",
              "      <td>0.0</td>\n",
              "      <td>0.0</td>\n",
              "      <td>5.0</td>\n",
              "      <td>...</td>\n",
              "      <td>Daily Commute</td>\n",
              "      <td>&gt; 1 yr</td>\n",
              "      <td>55 kmpl</td>\n",
              "      <td>&gt; 15000 kms</td>\n",
              "      <td>0.0</td>\n",
              "      <td>0.0</td>\n",
              "      <td>Neutral</td>\n",
              "      <td>0</td>\n",
              "      <td>0</td>\n",
              "      <td>1</td>\n",
              "    </tr>\n",
              "  </tbody>\n",
              "</table>\n",
              "<p>5 rows × 23 columns</p>\n",
              "</div>\n",
              "      <button class=\"colab-df-convert\" onclick=\"convertToInteractive('df-77fa181d-8528-4e0f-b660-93607f5c65ba')\"\n",
              "              title=\"Convert this dataframe to an interactive table.\"\n",
              "              style=\"display:none;\">\n",
              "        \n",
              "  <svg xmlns=\"http://www.w3.org/2000/svg\" height=\"24px\"viewBox=\"0 0 24 24\"\n",
              "       width=\"24px\">\n",
              "    <path d=\"M0 0h24v24H0V0z\" fill=\"none\"/>\n",
              "    <path d=\"M18.56 5.44l.94 2.06.94-2.06 2.06-.94-2.06-.94-.94-2.06-.94 2.06-2.06.94zm-11 1L8.5 8.5l.94-2.06 2.06-.94-2.06-.94L8.5 2.5l-.94 2.06-2.06.94zm10 10l.94 2.06.94-2.06 2.06-.94-2.06-.94-.94-2.06-.94 2.06-2.06.94z\"/><path d=\"M17.41 7.96l-1.37-1.37c-.4-.4-.92-.59-1.43-.59-.52 0-1.04.2-1.43.59L10.3 9.45l-7.72 7.72c-.78.78-.78 2.05 0 2.83L4 21.41c.39.39.9.59 1.41.59.51 0 1.02-.2 1.41-.59l7.78-7.78 2.81-2.81c.8-.78.8-2.07 0-2.86zM5.41 20L4 18.59l7.72-7.72 1.47 1.35L5.41 20z\"/>\n",
              "  </svg>\n",
              "      </button>\n",
              "      \n",
              "  <style>\n",
              "    .colab-df-container {\n",
              "      display:flex;\n",
              "      flex-wrap:wrap;\n",
              "      gap: 12px;\n",
              "    }\n",
              "\n",
              "    .colab-df-convert {\n",
              "      background-color: #E8F0FE;\n",
              "      border: none;\n",
              "      border-radius: 50%;\n",
              "      cursor: pointer;\n",
              "      display: none;\n",
              "      fill: #1967D2;\n",
              "      height: 32px;\n",
              "      padding: 0 0 0 0;\n",
              "      width: 32px;\n",
              "    }\n",
              "\n",
              "    .colab-df-convert:hover {\n",
              "      background-color: #E2EBFA;\n",
              "      box-shadow: 0px 1px 2px rgba(60, 64, 67, 0.3), 0px 1px 3px 1px rgba(60, 64, 67, 0.15);\n",
              "      fill: #174EA6;\n",
              "    }\n",
              "\n",
              "    [theme=dark] .colab-df-convert {\n",
              "      background-color: #3B4455;\n",
              "      fill: #D2E3FC;\n",
              "    }\n",
              "\n",
              "    [theme=dark] .colab-df-convert:hover {\n",
              "      background-color: #434B5C;\n",
              "      box-shadow: 0px 1px 3px 1px rgba(0, 0, 0, 0.15);\n",
              "      filter: drop-shadow(0px 1px 2px rgba(0, 0, 0, 0.3));\n",
              "      fill: #FFFFFF;\n",
              "    }\n",
              "  </style>\n",
              "\n",
              "      <script>\n",
              "        const buttonEl =\n",
              "          document.querySelector('#df-77fa181d-8528-4e0f-b660-93607f5c65ba button.colab-df-convert');\n",
              "        buttonEl.style.display =\n",
              "          google.colab.kernel.accessAllowed ? 'block' : 'none';\n",
              "\n",
              "        async function convertToInteractive(key) {\n",
              "          const element = document.querySelector('#df-77fa181d-8528-4e0f-b660-93607f5c65ba');\n",
              "          const dataTable =\n",
              "            await google.colab.kernel.invokeFunction('convertToInteractive',\n",
              "                                                     [key], {});\n",
              "          if (!dataTable) return;\n",
              "\n",
              "          const docLinkHtml = 'Like what you see? Visit the ' +\n",
              "            '<a target=\"_blank\" href=https://colab.research.google.com/notebooks/data_table.ipynb>data table notebook</a>'\n",
              "            + ' to learn more about interactive tables.';\n",
              "          element.innerHTML = '';\n",
              "          dataTable['output_type'] = 'display_data';\n",
              "          await google.colab.output.renderOutput(dataTable, element);\n",
              "          const docLink = document.createElement('div');\n",
              "          docLink.innerHTML = docLinkHtml;\n",
              "          element.appendChild(docLink);\n",
              "        }\n",
              "      </script>\n",
              "    </div>\n",
              "  </div>\n",
              "  "
            ],
            "text/plain": [
              "                 Name             Year  Rating           Description  \\\n",
              "2     Shubham Sadhuka    30 April 2022       4    A timeless legend!   \n",
              "4     Vishal Upadhyay    03 April 2022       5            Dream bike   \n",
              "5               Rinku    03 April 2022       4           Indian hunk   \n",
              "6     Manammal Swalih    04 March 2022       5  Improve the features   \n",
              "10  Saroj Kumar Nayak  03 January 2022       1                    10   \n",
              "\n",
              "    Visual Appeal  Reliability  Performance  Comfort  Service Experience  \\\n",
              "2             5.0          5.0          5.0      4.0                 4.0   \n",
              "4             5.0          5.0          5.0      0.0                 0.0   \n",
              "5             5.0          0.0          0.0      4.0                 4.0   \n",
              "6             5.0          5.0          5.0      0.0                 0.0   \n",
              "10            5.0          5.0          5.0      0.0                 0.0   \n",
              "\n",
              "    Maintenance cost  ...    Used it for      Owned for  Mileage  \\\n",
              "2                5.0  ...     Everything  6 months-1 yr  42 kmpl   \n",
              "4                5.0  ...  Daily Commute         > 1 yr  38 kmpl   \n",
              "5                0.0  ...  Daily Commute         > 1 yr  35 kmpl   \n",
              "6                5.0  ...     Everything         > 1 yr  40 kmpl   \n",
              "10               5.0  ...  Daily Commute         > 1 yr  55 kmpl   \n",
              "\n",
              "         Ridden for polarity subjectivity Final Result  Positive Reviews  \\\n",
              "2    5000-10000 kms      0.0          0.0      Neutral                 0   \n",
              "4       > 15000 kms      0.0          0.0      Neutral                 0   \n",
              "5   10000-15000 kms      0.0          0.0      Neutral                 0   \n",
              "6       > 15000 kms      0.0          0.0      Neutral                 0   \n",
              "10      > 15000 kms      0.0          0.0      Neutral                 0   \n",
              "\n",
              "    Negative Reviews Neutral Reviews  \n",
              "2                  0               1  \n",
              "4                  0               1  \n",
              "5                  0               1  \n",
              "6                  0               1  \n",
              "10                 0               1  \n",
              "\n",
              "[5 rows x 23 columns]"
            ]
          },
          "execution_count": 19,
          "metadata": {},
          "output_type": "execute_result"
        }
      ],
      "source": [
        "# Neutral comments\n",
        "royalEnfieeld_df[royalEnfieeld_df.polarity==0].head()"
      ]
    },
    {
      "cell_type": "markdown",
      "metadata": {
        "id": "5A_c5g4_tsjL"
      },
      "source": [
        "Sentiment Analysis model 2"
      ]
    },
    {
      "cell_type": "code",
      "execution_count": null,
      "metadata": {
        "id": "fC2xWHn6ts8m"
      },
      "outputs": [],
      "source": [
        "OverallSentiAnalisis = TextBlob(royalEnfieeld_df['Description'].to_string()).sentiment"
      ]
    },
    {
      "cell_type": "code",
      "execution_count": null,
      "metadata": {
        "colab": {
          "base_uri": "https://localhost:8080/"
        },
        "id": "yRYi-TOGjo6Z",
        "outputId": "4d641585-4cd9-4b2a-de64-1fb72615fa9d"
      },
      "outputs": [
        {
          "name": "stdout",
          "output_type": "stream",
          "text": [
            "Sentiment(polarity=0.32349932908328916, subjectivity=0.5584024434298038)\n"
          ]
        }
      ],
      "source": [
        "print(OverallSentiAnalisis)"
      ]
    },
    {
      "cell_type": "markdown",
      "metadata": {
        "id": "DH2zc5S6AxDu"
      },
      "source": [
        "# Visualizations"
      ]
    },
    {
      "cell_type": "markdown",
      "metadata": {
        "id": "qTVI87zmA12W"
      },
      "source": [
        "Bar graph between Rating and Year."
      ]
    },
    {
      "cell_type": "code",
      "execution_count": null,
      "metadata": {
        "colab": {
          "base_uri": "https://localhost:8080/",
          "height": 438
        },
        "id": "izm9afTd8e6l",
        "outputId": "951e6be3-8e3e-44e2-f843-643f14b8432a"
      },
      "outputs": [
        {
          "data": {
            "image/png": "[encoded data removed]",
            "text/plain": [
              "<Figure size 1440x360 with 1 Axes>"
            ]
          },
          "metadata": {
            "needs_background": "light"
          },
          "output_type": "display_data"
        }
      ],
      "source": [
        "plt.bar(royalEnfieeld_df['Year'], royalEnfieeld_df['Rating'], color='blue')\n",
        "plt.title('Year wise Ratings')\n",
        "plt.xlabel(\"Year\")\n",
        "plt.ylabel(\"Rating\")\n",
        "plt.xticks(rotation=90)\n",
        "plt.gcf().set_size_inches(20,5)"
      ]
    },
    {
      "cell_type": "code",
      "execution_count": null,
      "metadata": {
        "id": "aRArgI9wAvXo"
      },
      "outputs": [],
      "source": [
        "import plotly.express as plex\n",
        "plex.scatter(x=royalEnfieeld_df['subjectivity'],y=royalEnfieeld_df['polarity'],color=royalEnfieeld_df['subjectivity'])\n"
      ]
    },
    {
      "cell_type": "code",
      "execution_count": null,
      "metadata": {
        "colab": {
          "base_uri": "https://localhost:8080/",
          "height": 296
        },
        "id": "lajUa7e58fPY",
        "outputId": "4841ed9b-ce66-4281-f08c-5a147c75dc19"
      },
      "outputs": [
        {
          "data": {
            "text/plain": [
              "<matplotlib.axes._subplots.AxesSubplot at 0x7f7153147bd0>"
            ]
          },
          "execution_count": 34,
          "metadata": {},
          "output_type": "execute_result"
        },
        {
          "data": {
            "image/png": "[encoded data removed]",
            "text/plain": [
              "<Figure size 432x288 with 1 Axes>"
            ]
          },
          "metadata": {
            "needs_background": "light"
          },
          "output_type": "display_data"
        }
      ],
      "source": [
        "# Plot\n",
        "sns.histplot(data=royalEnfieeld_df,x='Rating')"
      ]
    },
    {
      "cell_type": "markdown",
      "metadata": {
        "id": "xPp4yiLe6xO9"
      },
      "source": [
        "# Classification"
      ]
    },
    {
      "cell_type": "markdown",
      "metadata": {
        "id": "wNixm5_X1wZW"
      },
      "source": [
        "Machine learning algorithms for calculating accuracy."
      ]
    },
    {
      "cell_type": "markdown",
      "metadata": {
        "id": "0MumgqaF2ICg"
      },
      "source": [
        "KNN Algorithm"
      ]
    },
    {
      "cell_type": "code",
      "execution_count": null,
      "metadata": {
        "colab": {
          "base_uri": "https://localhost:8080/"
        },
        "id": "6GlF6OSI2LAM",
        "outputId": "880d6823-f67f-4221-e153-a38b643b67b0"
      },
      "outputs": [
        {
          "data": {
            "text/plain": [
              "array([[5., 5., 5., 4., 4., 5., 4.],\n",
              "       [5., 5., 5., 0., 0., 5., 0.],\n",
              "       [5., 5., 5., 4., 4., 5., 4.],\n",
              "       [5., 5., 5., 0., 0., 5., 0.],\n",
              "       [5., 5., 5., 0., 0., 5., 0.]])"
            ]
          },
          "execution_count": 33,
          "metadata": {},
          "output_type": "execute_result"
        }
      ],
      "source": [
        "X = royalEnfieeld_df[['Visual Appeal', 'Reliability',\n",
        "       'Performance', 'Comfort', 'Service Experience', 'Maintenance cost',\n",
        "       'Extra Features',]] .values \n",
        "X[0:5]"
      ]
    },
    {
      "cell_type": "code",
      "execution_count": null,
      "metadata": {
        "colab": {
          "base_uri": "https://localhost:8080/"
        },
        "id": "XMkVJeK0289o",
        "outputId": "4174ad1e-cc1b-42f1-c439-cca3599ef0a4"
      },
      "outputs": [
        {
          "data": {
            "text/plain": [
              "array([5, 5, 4, 5, 5])"
            ]
          },
          "execution_count": 34,
          "metadata": {},
          "output_type": "execute_result"
        }
      ],
      "source": [
        "Y = royalEnfieeld_df['Rating'].values\n",
        "Y[0:5]"
      ]
    },
    {
      "cell_type": "code",
      "execution_count": null,
      "metadata": {
        "colab": {
          "base_uri": "https://localhost:8080/"
        },
        "id": "LHuemc0l3aps",
        "outputId": "5412512e-6292-4189-d380-945493dc18de"
      },
      "outputs": [
        {
          "name": "stdout",
          "output_type": "stream",
          "text": [
            "Train set: (1198, 7) (1198,)\n",
            "Test set: (300, 7) (300,)\n"
          ]
        }
      ],
      "source": [
        "from sklearn.neighbors import KNeighborsClassifier\n",
        "from sklearn.model_selection import train_test_split\n",
        "X_train, X_test, Y_train, Y_test = train_test_split( X, Y, test_size=0.2)\n",
        "print ('Train set:', X_train.shape,  Y_train.shape)\n",
        "print ('Test set:', X_test.shape,  Y_test.shape)"
      ]
    },
    {
      "cell_type": "code",
      "execution_count": null,
      "metadata": {
        "id": "0cAxyaNF21nB"
      },
      "outputs": [],
      "source": [
        "k = 1\n",
        "#Train Model and Predict  \n",
        "neigh = KNeighborsClassifier(n_neighbors = k).fit(X_train,Y_train)"
      ]
    },
    {
      "cell_type": "code",
      "execution_count": null,
      "metadata": {
        "colab": {
          "base_uri": "https://localhost:8080/"
        },
        "id": "V9e_9bws3g6j",
        "outputId": "97f9d97f-3321-42a2-8b19-db6d000cbf91"
      },
      "outputs": [
        {
          "data": {
            "text/plain": [
              "array([5, 5, 5, 4, 5])"
            ]
          },
          "execution_count": 37,
          "metadata": {},
          "output_type": "execute_result"
        }
      ],
      "source": [
        "y_pred = neigh.predict(X_test)\n",
        "y_pred[0:5]"
      ]
    },
    {
      "cell_type": "code",
      "execution_count": null,
      "metadata": {
        "colab": {
          "base_uri": "https://localhost:8080/"
        },
        "id": "fq5ia62U42C2",
        "outputId": "c3fcf104-7de9-466a-e64f-176ee05cf00a"
      },
      "outputs": [
        {
          "name": "stdout",
          "output_type": "stream",
          "text": [
            "Test set Accuracy:  0.6433333333333333\n"
          ]
        }
      ],
      "source": [
        "from sklearn import metrics\n",
        "print(\"Test set Accuracy: \", metrics.accuracy_score(Y_test, y_pred))"
      ]
    },
    {
      "cell_type": "code",
      "execution_count": null,
      "metadata": {
        "colab": {
          "base_uri": "https://localhost:8080/"
        },
        "id": "iVQTP9p846nI",
        "outputId": "d133bd0f-5ed1-435b-9b59-c914c413ceaf"
      },
      "outputs": [
        {
          "data": {
            "text/plain": [
              "array([0.64333333, 0.67      , 0.72333333, 0.72333333, 0.72333333,\n",
              "       0.72333333, 0.72333333, 0.71      , 0.72333333])"
            ]
          },
          "execution_count": 39,
          "metadata": {},
          "output_type": "execute_result"
        }
      ],
      "source": [
        "Ks = 10\n",
        "mean_acc = np.zeros((Ks-1))\n",
        "for n in range(1,Ks):   \n",
        "    #Train Model and Predict  \n",
        "    neigh = KNeighborsClassifier(n_neighbors = n).fit(X_train,Y_train)\n",
        "    y_pred=neigh.predict(X_test)\n",
        "    mean_acc[n-1] = metrics.accuracy_score(Y_test, y_pred)    \n",
        "mean_acc"
      ]
    },
    {
      "cell_type": "code",
      "execution_count": null,
      "metadata": {
        "colab": {
          "base_uri": "https://localhost:8080/",
          "height": 294
        },
        "id": "MyLleSvz4-Fu",
        "outputId": "b4742ac4-5e21-407a-c9fe-6e425c9540fb"
      },
      "outputs": [
        {
          "data": {
            "image/png": "[encoded data removed]",
            "text/plain": [
              "<Figure size 432x288 with 1 Axes>"
            ]
          },
          "metadata": {
            "needs_background": "light"
          },
          "output_type": "display_data"
        }
      ],
      "source": [
        "plt.plot(range(1,Ks),mean_acc,'g')\n",
        "plt.title(\"Accuracy prediction\")\n",
        "plt.ylabel('Accuracy ')\n",
        "plt.xlabel('Number of Neighbours (K)')\n",
        "plt.show()"
      ]
    },
    {
      "cell_type": "markdown",
      "metadata": {
        "id": "SfR3jBb_7i9I"
      },
      "source": [
        "# Modellling - Logistic Regression"
      ]
    },
    {
      "cell_type": "code",
      "execution_count": null,
      "metadata": {
        "id": "5WxTHMmX5E4Y"
      },
      "outputs": [],
      "source": [
        "from sklearn.linear_model import LogisticRegression\n",
        "RE_LR = LogisticRegression().fit(X_train,Y_train)\n",
        "\n",
        "RE_LR"
      ]
    },
    {
      "cell_type": "markdown",
      "metadata": {
        "id": "zlUbvy_O8OUV"
      },
      "source": [
        "Now we can predict data using our input test set:"
      ]
    },
    {
      "cell_type": "code",
      "execution_count": null,
      "metadata": {
        "colab": {
          "base_uri": "https://localhost:8080/"
        },
        "id": "9hRAhotw7kKr",
        "outputId": "de23492e-f08c-4374-8cca-1cef47687ab1"
      },
      "outputs": [
        {
          "data": {
            "text/plain": [
              "array([5, 5, 5, 5, 5, 5, 5, 4, 5, 4, 4, 4, 2, 4, 5, 4, 5, 2, 5, 5, 5, 5,\n",
              "       4, 5, 4, 4, 5, 2, 5, 5, 5, 5, 5, 4, 5, 5, 5, 4, 5, 4, 2, 5, 5, 5,\n",
              "       4, 5, 5, 5, 4, 5, 5, 4, 5, 4, 5, 5, 4, 5, 5, 4, 5, 5, 4, 5, 5, 4,\n",
              "       5, 4, 5, 5, 5, 5, 5, 4, 5, 5, 2, 4, 5, 4, 5, 2, 5, 5, 5, 5, 5, 4,\n",
              "       4, 5, 2, 4, 2, 5, 2, 5, 5, 5, 5, 5, 5, 5, 2, 4, 2, 5, 2, 4, 4, 3,\n",
              "       5, 4, 5, 5, 4, 4, 4, 5, 5, 5, 5, 5, 5, 5, 4, 5, 4, 4, 5, 2, 2, 5,\n",
              "       2, 5, 5, 5, 5, 5, 4, 2, 5, 5, 5, 5, 5, 5, 5, 5, 5, 5, 5, 5, 5, 5,\n",
              "       4, 5, 5, 5, 5, 5, 2, 5, 5, 5, 5, 5, 5, 4, 5, 5, 5, 2, 4, 2, 5, 5,\n",
              "       4, 2, 4, 5, 4, 5, 4, 5, 5, 4, 4, 5, 5, 5, 4, 5, 4, 4, 4, 4, 5, 5,\n",
              "       5, 5, 5, 3, 5, 4, 5, 5, 4, 5, 5, 5, 5, 5, 4, 5, 5, 5, 5, 5, 4, 2,\n",
              "       2, 5, 5, 5, 3, 5, 5, 5, 5, 4, 2, 4, 5, 4, 5, 5, 5, 5, 5, 4, 5, 5,\n",
              "       5, 5, 5, 5, 4, 2, 2, 5, 5, 5, 5, 5, 4, 5, 4, 5, 5, 5, 5, 2, 5, 5,\n",
              "       2, 5, 5, 4, 5, 5, 5, 5, 5, 5, 4, 4, 2, 5, 5, 5, 5, 5, 2, 5, 5, 4,\n",
              "       5, 5, 5, 5, 4, 4, 5, 2, 5, 5, 5, 5, 5, 5])"
            ]
          },
          "execution_count": 45,
          "metadata": {},
          "output_type": "execute_result"
        }
      ],
      "source": [
        "yhat_pred = RE_LR.predict(X_test)\n",
        "yhat_pred"
      ]
    },
    {
      "cell_type": "markdown",
      "metadata": {
        "id": "4nYiuDjM7r7C"
      },
      "source": [
        "# Evaluation"
      ]
    },
    {
      "cell_type": "code",
      "execution_count": null,
      "metadata": {
        "colab": {
          "base_uri": "https://localhost:8080/"
        },
        "id": "t2uA_MMg7suV",
        "outputId": "e652bdd4-7ef3-4dc3-f750-69c934c1573e"
      },
      "outputs": [
        {
          "name": "stdout",
          "output_type": "stream",
          "text": [
            "Test set Accuracy:  0.7333333333333333\n"
          ]
        }
      ],
      "source": [
        "from sklearn import metrics\n",
        "print(\"Test set Accuracy: \", metrics.accuracy_score(Y_test, yhat_pred))"
      ]
    },
    {
      "cell_type": "markdown",
      "metadata": {
        "id": "9C525ecMBeaY"
      },
      "source": [
        "# Downloading cleaned file."
      ]
    },
    {
      "cell_type": "code",
      "execution_count": null,
      "metadata": {
        "id": "vsQdv3NuBnkc"
      },
      "outputs": [],
      "source": [
        "royalEnfieeld_df.to_csv(r'/content/drive/My Drive/Colab/finalRoyalEnfield.csv')"
      ]
    },
    {
      "cell_type": "code",
      "execution_count": null,
      "metadata": {
        "id": "08b2ntHY3JOu"
      },
      "outputs": [],
      "source": []
    }
  ],
  "metadata": {
    "colab": {
      "collapsed_sections": [],
      "name": "st20219772 Royal Enfield Analysis.ipynb",
      "provenance": []
    },
    "kernelspec": {
      "display_name": "Python 3",
      "name": "python3"
    },
    "language_info": {
      "name": "python"
    }
  },
  "nbformat": 4,
  "nbformat_minor": 0
}
